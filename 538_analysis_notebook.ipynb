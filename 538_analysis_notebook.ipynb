{
 "cells": [
  {
   "cell_type": "code",
   "execution_count": 1,
   "metadata": {
    "collapsed": false
   },
   "outputs": [
    {
     "name": "stderr",
     "output_type": "stream",
     "text": [
      "/Users/georgemcintire/anaconda/lib/python2.7/site-packages/matplotlib/font_manager.py:273: UserWarning: Matplotlib is building the font cache using fc-list. This may take a moment.\n",
      "  warnings.warn('Matplotlib is building the font cache using fc-list. This may take a moment.')\n",
      "/Users/georgemcintire/anaconda/lib/python2.7/site-packages/matplotlib/__init__.py:872: UserWarning: axes.color_cycle is deprecated and replaced with axes.prop_cycle; please use the latter.\n",
      "  warnings.warn(self.msg_depr % (key, alt_key))\n"
     ]
    }
   ],
   "source": [
    "import pandas as pd\n",
    "import numpy as np\n",
    "import matplotlib.pyplot as plt\n",
    "%matplotlib inline\n",
    "import seaborn as sns\n",
    "import csv\n",
    "import pickle\n",
    "import collections"
   ]
  },
  {
   "cell_type": "code",
   "execution_count": 2,
   "metadata": {
    "collapsed": false
   },
   "outputs": [
    {
     "name": "stdout",
     "output_type": "stream",
     "text": [
      "538_README.md\r\n",
      "538_analysis_notebook.ipynb\r\n",
      "538_police_killings.csv\r\n",
      "\u001b[31mCOUNTED_README.txt\u001b[m\u001b[m\r\n",
      "Counted_Data_Analysis.ipynb\r\n",
      "WP_Fatal_Police_Shootings.csv\r\n",
      "Washington Post Data Analysis.ipynb\r\n",
      "ardpdqp.pdf\r\n",
      "\u001b[34mdata-police-shootings\u001b[m\u001b[m\r\n",
      "fatal_encounters_data.ipynb\r\n",
      "fatal_encounters_form_responses.csv\r\n",
      "mapping-violence.html\r\n",
      "mapping_violence_13_15_Police Killings.csv\r\n",
      "police-locals.csv\r\n",
      "\u001b[31mthe-counted-2015.csv\u001b[m\u001b[m\r\n",
      "\u001b[31mthe-counted-2016.csv\u001b[m\u001b[m\r\n"
     ]
    }
   ],
   "source": [
    "! ls"
   ]
  },
  {
   "cell_type": "code",
   "execution_count": 3,
   "metadata": {
    "collapsed": false
   },
   "outputs": [
    {
     "data": {
      "text/html": [
       "<style>body {\n",
       "    margin: 0;\n",
       "    font-family: Helvetica;\n",
       "}\n",
       "table.dataframe {\n",
       "    border-collapse: collapse;\n",
       "    border: none;\n",
       "}\n",
       "table.dataframe tr {\n",
       "    border: none;\n",
       "}\n",
       "table.dataframe td, table.dataframe th {\n",
       "    margin: 0;\n",
       "    border: 1px solid white;\n",
       "    padding-left: 0.25em;\n",
       "    padding-right: 0.25em;\n",
       "}\n",
       "table.dataframe th:not(:empty) {\n",
       "    background-color: #fec;\n",
       "    text-align: left;\n",
       "    font-weight: normal;\n",
       "}\n",
       "table.dataframe tr:nth-child(2) th:empty {\n",
       "    border-left: none;\n",
       "    border-right: 1px dashed #888;\n",
       "}\n",
       "table.dataframe td {\n",
       "    border: 2px solid #ccf;\n",
       "    background-color: #f4f4ff;\n",
       "}\n",
       "h3 {\n",
       "    color: white;\n",
       "    background-color: black;\n",
       "    padding: 0.5em;\n",
       "}\n",
       "</style>"
      ],
      "text/plain": [
       "<IPython.core.display.HTML object>"
      ]
     },
     "execution_count": 3,
     "metadata": {},
     "output_type": "execute_result"
    }
   ],
   "source": [
    "from IPython.core.display import HTML\n",
    "css = open('/Users/georgemcintire/Data Science:Python/pycon-pandas-tutorial/style-table.css').read() + open('/Users/georgemcintire/Data Science:Python/pycon-pandas-tutorial/style-notebook.css').read()\n",
    "HTML('<style>{}</style>'.format(css))"
   ]
  },
  {
   "cell_type": "code",
   "execution_count": 26,
   "metadata": {
    "collapsed": true
   },
   "outputs": [],
   "source": [
    "df = pd.read_csv(\"538_police_killings.csv\")"
   ]
  },
  {
   "cell_type": "code",
   "execution_count": 27,
   "metadata": {
    "collapsed": false
   },
   "outputs": [
    {
     "data": {
      "text/html": [
       "<div>\n",
       "<table border=\"1\" class=\"dataframe\">\n",
       "  <thead>\n",
       "    <tr style=\"text-align: right;\">\n",
       "      <th></th>\n",
       "      <th>name</th>\n",
       "      <th>age</th>\n",
       "      <th>gender</th>\n",
       "      <th>raceethnicity</th>\n",
       "      <th>month</th>\n",
       "      <th>day</th>\n",
       "      <th>year</th>\n",
       "      <th>streetaddress</th>\n",
       "      <th>city</th>\n",
       "      <th>state</th>\n",
       "      <th>...</th>\n",
       "      <th>share_hispanic</th>\n",
       "      <th>p_income</th>\n",
       "      <th>h_income</th>\n",
       "      <th>county_income</th>\n",
       "      <th>comp_income</th>\n",
       "      <th>county_bucket</th>\n",
       "      <th>nat_bucket</th>\n",
       "      <th>pov</th>\n",
       "      <th>urate</th>\n",
       "      <th>college</th>\n",
       "    </tr>\n",
       "  </thead>\n",
       "  <tbody>\n",
       "    <tr>\n",
       "      <th>0</th>\n",
       "      <td>A'donte Washington</td>\n",
       "      <td>16</td>\n",
       "      <td>Male</td>\n",
       "      <td>Black</td>\n",
       "      <td>February</td>\n",
       "      <td>23</td>\n",
       "      <td>2015</td>\n",
       "      <td>Clearview Ln</td>\n",
       "      <td>Millbrook</td>\n",
       "      <td>AL</td>\n",
       "      <td>...</td>\n",
       "      <td>5.6</td>\n",
       "      <td>28375</td>\n",
       "      <td>51367</td>\n",
       "      <td>54766</td>\n",
       "      <td>0.937936</td>\n",
       "      <td>3</td>\n",
       "      <td>3</td>\n",
       "      <td>14.1</td>\n",
       "      <td>0.097686</td>\n",
       "      <td>0.168510</td>\n",
       "    </tr>\n",
       "    <tr>\n",
       "      <th>1</th>\n",
       "      <td>Aaron Rutledge</td>\n",
       "      <td>27</td>\n",
       "      <td>Male</td>\n",
       "      <td>White</td>\n",
       "      <td>April</td>\n",
       "      <td>2</td>\n",
       "      <td>2015</td>\n",
       "      <td>300 block Iris Park Dr</td>\n",
       "      <td>Pineville</td>\n",
       "      <td>LA</td>\n",
       "      <td>...</td>\n",
       "      <td>0.5</td>\n",
       "      <td>14678</td>\n",
       "      <td>27972</td>\n",
       "      <td>40930</td>\n",
       "      <td>0.683411</td>\n",
       "      <td>2</td>\n",
       "      <td>1</td>\n",
       "      <td>28.8</td>\n",
       "      <td>0.065724</td>\n",
       "      <td>0.111402</td>\n",
       "    </tr>\n",
       "    <tr>\n",
       "      <th>2</th>\n",
       "      <td>Aaron Siler</td>\n",
       "      <td>26</td>\n",
       "      <td>Male</td>\n",
       "      <td>White</td>\n",
       "      <td>March</td>\n",
       "      <td>14</td>\n",
       "      <td>2015</td>\n",
       "      <td>22nd Ave and 56th St</td>\n",
       "      <td>Kenosha</td>\n",
       "      <td>WI</td>\n",
       "      <td>...</td>\n",
       "      <td>16.8</td>\n",
       "      <td>25286</td>\n",
       "      <td>45365</td>\n",
       "      <td>54930</td>\n",
       "      <td>0.825869</td>\n",
       "      <td>2</td>\n",
       "      <td>3</td>\n",
       "      <td>14.6</td>\n",
       "      <td>0.166293</td>\n",
       "      <td>0.147312</td>\n",
       "    </tr>\n",
       "    <tr>\n",
       "      <th>3</th>\n",
       "      <td>Aaron Valdez</td>\n",
       "      <td>25</td>\n",
       "      <td>Male</td>\n",
       "      <td>Hispanic/Latino</td>\n",
       "      <td>March</td>\n",
       "      <td>11</td>\n",
       "      <td>2015</td>\n",
       "      <td>3000 Seminole Ave</td>\n",
       "      <td>South Gate</td>\n",
       "      <td>CA</td>\n",
       "      <td>...</td>\n",
       "      <td>98.8</td>\n",
       "      <td>17194</td>\n",
       "      <td>48295</td>\n",
       "      <td>55909</td>\n",
       "      <td>0.863814</td>\n",
       "      <td>3</td>\n",
       "      <td>3</td>\n",
       "      <td>11.7</td>\n",
       "      <td>0.124827</td>\n",
       "      <td>0.050133</td>\n",
       "    </tr>\n",
       "    <tr>\n",
       "      <th>4</th>\n",
       "      <td>Adam Jovicic</td>\n",
       "      <td>29</td>\n",
       "      <td>Male</td>\n",
       "      <td>White</td>\n",
       "      <td>March</td>\n",
       "      <td>19</td>\n",
       "      <td>2015</td>\n",
       "      <td>364 Hiwood Ave</td>\n",
       "      <td>Munroe Falls</td>\n",
       "      <td>OH</td>\n",
       "      <td>...</td>\n",
       "      <td>1.7</td>\n",
       "      <td>33954</td>\n",
       "      <td>68785</td>\n",
       "      <td>49669</td>\n",
       "      <td>1.384868</td>\n",
       "      <td>5</td>\n",
       "      <td>4</td>\n",
       "      <td>1.9</td>\n",
       "      <td>0.063550</td>\n",
       "      <td>0.403954</td>\n",
       "    </tr>\n",
       "  </tbody>\n",
       "</table>\n",
       "<p>5 rows × 34 columns</p>\n",
       "</div>"
      ],
      "text/plain": [
       "                 name age gender    raceethnicity     month  day  year  \\\n",
       "0  A'donte Washington  16   Male            Black  February   23  2015   \n",
       "1      Aaron Rutledge  27   Male            White     April    2  2015   \n",
       "2         Aaron Siler  26   Male            White     March   14  2015   \n",
       "3        Aaron Valdez  25   Male  Hispanic/Latino     March   11  2015   \n",
       "4        Adam Jovicic  29   Male            White     March   19  2015   \n",
       "\n",
       "            streetaddress          city state    ...     share_hispanic  \\\n",
       "0            Clearview Ln     Millbrook    AL    ...                5.6   \n",
       "1  300 block Iris Park Dr     Pineville    LA    ...                0.5   \n",
       "2    22nd Ave and 56th St       Kenosha    WI    ...               16.8   \n",
       "3       3000 Seminole Ave    South Gate    CA    ...               98.8   \n",
       "4          364 Hiwood Ave  Munroe Falls    OH    ...                1.7   \n",
       "\n",
       "   p_income  h_income  county_income  comp_income  county_bucket  nat_bucket  \\\n",
       "0     28375     51367          54766     0.937936              3           3   \n",
       "1     14678     27972          40930     0.683411              2           1   \n",
       "2     25286     45365          54930     0.825869              2           3   \n",
       "3     17194     48295          55909     0.863814              3           3   \n",
       "4     33954     68785          49669     1.384868              5           4   \n",
       "\n",
       "    pov     urate   college  \n",
       "0  14.1  0.097686  0.168510  \n",
       "1  28.8  0.065724  0.111402  \n",
       "2  14.6  0.166293  0.147312  \n",
       "3  11.7  0.124827  0.050133  \n",
       "4   1.9  0.063550  0.403954  \n",
       "\n",
       "[5 rows x 34 columns]"
      ]
     },
     "execution_count": 27,
     "metadata": {},
     "output_type": "execute_result"
    }
   ],
   "source": [
    "df.head()"
   ]
  },
  {
   "cell_type": "code",
   "execution_count": 28,
   "metadata": {
    "collapsed": false
   },
   "outputs": [],
   "source": [
    "df.day = df.day.apply(lambda x:str(x))\n",
    "\n",
    "df.month = df.month.apply(lambda x:str(x))\n",
    "\n",
    "df.year = df.year.apply(lambda x:str(x))\n",
    "\n",
    "df[\"date\"] = df[\"month\"] + \"-\" + df[\"day\"] + \"-\" + df[\"year\"]"
   ]
  },
  {
   "cell_type": "code",
   "execution_count": 29,
   "metadata": {
    "collapsed": true
   },
   "outputs": [],
   "source": [
    "df[\"date\"] = pd.to_datetime(df.date)"
   ]
  },
  {
   "cell_type": "code",
   "execution_count": 30,
   "metadata": {
    "collapsed": true
   },
   "outputs": [],
   "source": [
    "del df[\"month\"]\n",
    "\n",
    "del df[\"day\"]\n",
    "\n",
    "del df[\"year\"]"
   ]
  },
  {
   "cell_type": "code",
   "execution_count": 31,
   "metadata": {
    "collapsed": false
   },
   "outputs": [
    {
     "data": {
      "text/html": [
       "<div>\n",
       "<table border=\"1\" class=\"dataframe\">\n",
       "  <thead>\n",
       "    <tr style=\"text-align: right;\">\n",
       "      <th></th>\n",
       "      <th>name</th>\n",
       "      <th>age</th>\n",
       "      <th>gender</th>\n",
       "      <th>raceethnicity</th>\n",
       "      <th>streetaddress</th>\n",
       "      <th>city</th>\n",
       "      <th>state</th>\n",
       "      <th>latitude</th>\n",
       "      <th>longitude</th>\n",
       "      <th>state_fp</th>\n",
       "      <th>...</th>\n",
       "      <th>p_income</th>\n",
       "      <th>h_income</th>\n",
       "      <th>county_income</th>\n",
       "      <th>comp_income</th>\n",
       "      <th>county_bucket</th>\n",
       "      <th>nat_bucket</th>\n",
       "      <th>pov</th>\n",
       "      <th>urate</th>\n",
       "      <th>college</th>\n",
       "      <th>date</th>\n",
       "    </tr>\n",
       "  </thead>\n",
       "  <tbody>\n",
       "    <tr>\n",
       "      <th>0</th>\n",
       "      <td>A'donte Washington</td>\n",
       "      <td>16</td>\n",
       "      <td>Male</td>\n",
       "      <td>Black</td>\n",
       "      <td>Clearview Ln</td>\n",
       "      <td>Millbrook</td>\n",
       "      <td>AL</td>\n",
       "      <td>32.529577</td>\n",
       "      <td>-86.362829</td>\n",
       "      <td>1</td>\n",
       "      <td>...</td>\n",
       "      <td>28375</td>\n",
       "      <td>51367</td>\n",
       "      <td>54766</td>\n",
       "      <td>0.937936</td>\n",
       "      <td>3</td>\n",
       "      <td>3</td>\n",
       "      <td>14.1</td>\n",
       "      <td>0.097686</td>\n",
       "      <td>0.168510</td>\n",
       "      <td>2015-02-23</td>\n",
       "    </tr>\n",
       "    <tr>\n",
       "      <th>1</th>\n",
       "      <td>Aaron Rutledge</td>\n",
       "      <td>27</td>\n",
       "      <td>Male</td>\n",
       "      <td>White</td>\n",
       "      <td>300 block Iris Park Dr</td>\n",
       "      <td>Pineville</td>\n",
       "      <td>LA</td>\n",
       "      <td>31.321739</td>\n",
       "      <td>-92.434860</td>\n",
       "      <td>22</td>\n",
       "      <td>...</td>\n",
       "      <td>14678</td>\n",
       "      <td>27972</td>\n",
       "      <td>40930</td>\n",
       "      <td>0.683411</td>\n",
       "      <td>2</td>\n",
       "      <td>1</td>\n",
       "      <td>28.8</td>\n",
       "      <td>0.065724</td>\n",
       "      <td>0.111402</td>\n",
       "      <td>2015-04-02</td>\n",
       "    </tr>\n",
       "    <tr>\n",
       "      <th>2</th>\n",
       "      <td>Aaron Siler</td>\n",
       "      <td>26</td>\n",
       "      <td>Male</td>\n",
       "      <td>White</td>\n",
       "      <td>22nd Ave and 56th St</td>\n",
       "      <td>Kenosha</td>\n",
       "      <td>WI</td>\n",
       "      <td>42.583560</td>\n",
       "      <td>-87.835710</td>\n",
       "      <td>55</td>\n",
       "      <td>...</td>\n",
       "      <td>25286</td>\n",
       "      <td>45365</td>\n",
       "      <td>54930</td>\n",
       "      <td>0.825869</td>\n",
       "      <td>2</td>\n",
       "      <td>3</td>\n",
       "      <td>14.6</td>\n",
       "      <td>0.166293</td>\n",
       "      <td>0.147312</td>\n",
       "      <td>2015-03-14</td>\n",
       "    </tr>\n",
       "    <tr>\n",
       "      <th>3</th>\n",
       "      <td>Aaron Valdez</td>\n",
       "      <td>25</td>\n",
       "      <td>Male</td>\n",
       "      <td>Hispanic/Latino</td>\n",
       "      <td>3000 Seminole Ave</td>\n",
       "      <td>South Gate</td>\n",
       "      <td>CA</td>\n",
       "      <td>33.939298</td>\n",
       "      <td>-118.219463</td>\n",
       "      <td>6</td>\n",
       "      <td>...</td>\n",
       "      <td>17194</td>\n",
       "      <td>48295</td>\n",
       "      <td>55909</td>\n",
       "      <td>0.863814</td>\n",
       "      <td>3</td>\n",
       "      <td>3</td>\n",
       "      <td>11.7</td>\n",
       "      <td>0.124827</td>\n",
       "      <td>0.050133</td>\n",
       "      <td>2015-03-11</td>\n",
       "    </tr>\n",
       "    <tr>\n",
       "      <th>4</th>\n",
       "      <td>Adam Jovicic</td>\n",
       "      <td>29</td>\n",
       "      <td>Male</td>\n",
       "      <td>White</td>\n",
       "      <td>364 Hiwood Ave</td>\n",
       "      <td>Munroe Falls</td>\n",
       "      <td>OH</td>\n",
       "      <td>41.148575</td>\n",
       "      <td>-81.429878</td>\n",
       "      <td>39</td>\n",
       "      <td>...</td>\n",
       "      <td>33954</td>\n",
       "      <td>68785</td>\n",
       "      <td>49669</td>\n",
       "      <td>1.384868</td>\n",
       "      <td>5</td>\n",
       "      <td>4</td>\n",
       "      <td>1.9</td>\n",
       "      <td>0.063550</td>\n",
       "      <td>0.403954</td>\n",
       "      <td>2015-03-19</td>\n",
       "    </tr>\n",
       "  </tbody>\n",
       "</table>\n",
       "<p>5 rows × 32 columns</p>\n",
       "</div>"
      ],
      "text/plain": [
       "                 name age gender    raceethnicity           streetaddress  \\\n",
       "0  A'donte Washington  16   Male            Black            Clearview Ln   \n",
       "1      Aaron Rutledge  27   Male            White  300 block Iris Park Dr   \n",
       "2         Aaron Siler  26   Male            White    22nd Ave and 56th St   \n",
       "3        Aaron Valdez  25   Male  Hispanic/Latino       3000 Seminole Ave   \n",
       "4        Adam Jovicic  29   Male            White          364 Hiwood Ave   \n",
       "\n",
       "           city state   latitude   longitude  state_fp    ...      p_income  \\\n",
       "0     Millbrook    AL  32.529577  -86.362829         1    ...         28375   \n",
       "1     Pineville    LA  31.321739  -92.434860        22    ...         14678   \n",
       "2       Kenosha    WI  42.583560  -87.835710        55    ...         25286   \n",
       "3    South Gate    CA  33.939298 -118.219463         6    ...         17194   \n",
       "4  Munroe Falls    OH  41.148575  -81.429878        39    ...         33954   \n",
       "\n",
       "   h_income  county_income  comp_income county_bucket nat_bucket   pov  \\\n",
       "0     51367          54766     0.937936             3          3  14.1   \n",
       "1     27972          40930     0.683411             2          1  28.8   \n",
       "2     45365          54930     0.825869             2          3  14.6   \n",
       "3     48295          55909     0.863814             3          3  11.7   \n",
       "4     68785          49669     1.384868             5          4   1.9   \n",
       "\n",
       "      urate   college       date  \n",
       "0  0.097686  0.168510 2015-02-23  \n",
       "1  0.065724  0.111402 2015-04-02  \n",
       "2  0.166293  0.147312 2015-03-14  \n",
       "3  0.124827  0.050133 2015-03-11  \n",
       "4  0.063550  0.403954 2015-03-19  \n",
       "\n",
       "[5 rows x 32 columns]"
      ]
     },
     "execution_count": 31,
     "metadata": {},
     "output_type": "execute_result"
    }
   ],
   "source": [
    "df.head()"
   ]
  },
  {
   "cell_type": "code",
   "execution_count": 32,
   "metadata": {
    "collapsed": false
   },
   "outputs": [
    {
     "name": "stderr",
     "output_type": "stream",
     "text": [
      "/Users/georgemcintire/anaconda/lib/python2.7/site-packages/ipykernel/__main__.py:1: FutureWarning: sort(columns=....) is deprecated, use sort_values(by=.....)\n",
      "  if __name__ == '__main__':\n"
     ]
    }
   ],
   "source": [
    "df.sort(\"date\", inplace=True)"
   ]
  },
  {
   "cell_type": "code",
   "execution_count": 38,
   "metadata": {
    "collapsed": false
   },
   "outputs": [],
   "source": [
    "df.index=df.date"
   ]
  },
  {
   "cell_type": "code",
   "execution_count": 39,
   "metadata": {
    "collapsed": false
   },
   "outputs": [
    {
     "data": {
      "text/html": [
       "<div>\n",
       "<table border=\"1\" class=\"dataframe\">\n",
       "  <thead>\n",
       "    <tr style=\"text-align: right;\">\n",
       "      <th></th>\n",
       "      <th>name</th>\n",
       "      <th>age</th>\n",
       "      <th>gender</th>\n",
       "      <th>raceethnicity</th>\n",
       "      <th>streetaddress</th>\n",
       "      <th>city</th>\n",
       "      <th>state</th>\n",
       "      <th>latitude</th>\n",
       "      <th>longitude</th>\n",
       "      <th>state_fp</th>\n",
       "      <th>...</th>\n",
       "      <th>p_income</th>\n",
       "      <th>h_income</th>\n",
       "      <th>county_income</th>\n",
       "      <th>comp_income</th>\n",
       "      <th>county_bucket</th>\n",
       "      <th>nat_bucket</th>\n",
       "      <th>pov</th>\n",
       "      <th>urate</th>\n",
       "      <th>college</th>\n",
       "      <th>date</th>\n",
       "    </tr>\n",
       "    <tr>\n",
       "      <th>date</th>\n",
       "      <th></th>\n",
       "      <th></th>\n",
       "      <th></th>\n",
       "      <th></th>\n",
       "      <th></th>\n",
       "      <th></th>\n",
       "      <th></th>\n",
       "      <th></th>\n",
       "      <th></th>\n",
       "      <th></th>\n",
       "      <th></th>\n",
       "      <th></th>\n",
       "      <th></th>\n",
       "      <th></th>\n",
       "      <th></th>\n",
       "      <th></th>\n",
       "      <th></th>\n",
       "      <th></th>\n",
       "      <th></th>\n",
       "      <th></th>\n",
       "      <th></th>\n",
       "    </tr>\n",
       "  </thead>\n",
       "  <tbody>\n",
       "    <tr>\n",
       "      <th>2015-01-01</th>\n",
       "      <td>Garrett Gagne</td>\n",
       "      <td>22</td>\n",
       "      <td>Male</td>\n",
       "      <td>White</td>\n",
       "      <td>Crowell Rd and Tipcart Dr</td>\n",
       "      <td>Chatham</td>\n",
       "      <td>MA</td>\n",
       "      <td>41.684818</td>\n",
       "      <td>-69.966423</td>\n",
       "      <td>25</td>\n",
       "      <td>...</td>\n",
       "      <td>31641</td>\n",
       "      <td>67059</td>\n",
       "      <td>60526</td>\n",
       "      <td>1.107937</td>\n",
       "      <td>4</td>\n",
       "      <td>4</td>\n",
       "      <td>7.7</td>\n",
       "      <td>0.096795</td>\n",
       "      <td>0.527820</td>\n",
       "      <td>2015-01-01</td>\n",
       "    </tr>\n",
       "    <tr>\n",
       "      <th>2015-01-01</th>\n",
       "      <td>Matthew Ajibade</td>\n",
       "      <td>22</td>\n",
       "      <td>Male</td>\n",
       "      <td>Black</td>\n",
       "      <td>1050 Carl Griffin Dr</td>\n",
       "      <td>Savannah</td>\n",
       "      <td>GA</td>\n",
       "      <td>32.066692</td>\n",
       "      <td>-81.167877</td>\n",
       "      <td>13</td>\n",
       "      <td>...</td>\n",
       "      <td>25190</td>\n",
       "      <td>33545</td>\n",
       "      <td>45794</td>\n",
       "      <td>0.732520</td>\n",
       "      <td>2</td>\n",
       "      <td>1</td>\n",
       "      <td>30.1</td>\n",
       "      <td>0.119608</td>\n",
       "      <td>0.202454</td>\n",
       "      <td>2015-01-01</td>\n",
       "    </tr>\n",
       "    <tr>\n",
       "      <th>2015-01-01</th>\n",
       "      <td>Roberto Ornelas</td>\n",
       "      <td>18</td>\n",
       "      <td>Male</td>\n",
       "      <td>Hispanic/Latino</td>\n",
       "      <td>39 N Marlin Ave</td>\n",
       "      <td>Key Largo</td>\n",
       "      <td>FL</td>\n",
       "      <td>25.155903</td>\n",
       "      <td>-80.390259</td>\n",
       "      <td>12</td>\n",
       "      <td>...</td>\n",
       "      <td>25977</td>\n",
       "      <td>54219</td>\n",
       "      <td>53607</td>\n",
       "      <td>1.011416</td>\n",
       "      <td>3</td>\n",
       "      <td>3</td>\n",
       "      <td>16.4</td>\n",
       "      <td>0.081263</td>\n",
       "      <td>0.313959</td>\n",
       "      <td>2015-01-01</td>\n",
       "    </tr>\n",
       "    <tr>\n",
       "      <th>2015-01-02</th>\n",
       "      <td>Lewis Lembke</td>\n",
       "      <td>47</td>\n",
       "      <td>Male</td>\n",
       "      <td>White</td>\n",
       "      <td>4505 SW Masters Loop</td>\n",
       "      <td>Aloha</td>\n",
       "      <td>OR</td>\n",
       "      <td>45.486691</td>\n",
       "      <td>-122.891251</td>\n",
       "      <td>41</td>\n",
       "      <td>...</td>\n",
       "      <td>29959</td>\n",
       "      <td>56020</td>\n",
       "      <td>64180</td>\n",
       "      <td>0.872858</td>\n",
       "      <td>2</td>\n",
       "      <td>3</td>\n",
       "      <td>8.8</td>\n",
       "      <td>0.135548</td>\n",
       "      <td>0.174887</td>\n",
       "      <td>2015-01-02</td>\n",
       "    </tr>\n",
       "    <tr>\n",
       "      <th>2015-01-02</th>\n",
       "      <td>Tim Elliott</td>\n",
       "      <td>53</td>\n",
       "      <td>Male</td>\n",
       "      <td>Unknown</td>\n",
       "      <td>600 E Island Lake Dr</td>\n",
       "      <td>Shelton</td>\n",
       "      <td>WA</td>\n",
       "      <td>47.246532</td>\n",
       "      <td>-123.119499</td>\n",
       "      <td>53</td>\n",
       "      <td>...</td>\n",
       "      <td>18999</td>\n",
       "      <td>39495</td>\n",
       "      <td>48755</td>\n",
       "      <td>0.810071</td>\n",
       "      <td>1</td>\n",
       "      <td>2</td>\n",
       "      <td>18.4</td>\n",
       "      <td>0.064193</td>\n",
       "      <td>0.091158</td>\n",
       "      <td>2015-01-02</td>\n",
       "    </tr>\n",
       "  </tbody>\n",
       "</table>\n",
       "<p>5 rows × 32 columns</p>\n",
       "</div>"
      ],
      "text/plain": [
       "                       name age gender    raceethnicity  \\\n",
       "date                                                      \n",
       "2015-01-01    Garrett Gagne  22   Male            White   \n",
       "2015-01-01  Matthew Ajibade  22   Male            Black   \n",
       "2015-01-01  Roberto Ornelas  18   Male  Hispanic/Latino   \n",
       "2015-01-02     Lewis Lembke  47   Male            White   \n",
       "2015-01-02      Tim Elliott  53   Male          Unknown   \n",
       "\n",
       "                        streetaddress       city state   latitude   longitude  \\\n",
       "date                                                                            \n",
       "2015-01-01  Crowell Rd and Tipcart Dr    Chatham    MA  41.684818  -69.966423   \n",
       "2015-01-01       1050 Carl Griffin Dr   Savannah    GA  32.066692  -81.167877   \n",
       "2015-01-01            39 N Marlin Ave  Key Largo    FL  25.155903  -80.390259   \n",
       "2015-01-02       4505 SW Masters Loop      Aloha    OR  45.486691 -122.891251   \n",
       "2015-01-02       600 E Island Lake Dr    Shelton    WA  47.246532 -123.119499   \n",
       "\n",
       "            state_fp    ...      p_income  h_income  county_income  \\\n",
       "date                    ...                                          \n",
       "2015-01-01        25    ...         31641     67059          60526   \n",
       "2015-01-01        13    ...         25190     33545          45794   \n",
       "2015-01-01        12    ...         25977     54219          53607   \n",
       "2015-01-02        41    ...         29959     56020          64180   \n",
       "2015-01-02        53    ...         18999     39495          48755   \n",
       "\n",
       "            comp_income county_bucket nat_bucket   pov     urate   college  \\\n",
       "date                                                                         \n",
       "2015-01-01     1.107937             4          4   7.7  0.096795  0.527820   \n",
       "2015-01-01     0.732520             2          1  30.1  0.119608  0.202454   \n",
       "2015-01-01     1.011416             3          3  16.4  0.081263  0.313959   \n",
       "2015-01-02     0.872858             2          3   8.8  0.135548  0.174887   \n",
       "2015-01-02     0.810071             1          2  18.4  0.064193  0.091158   \n",
       "\n",
       "                 date  \n",
       "date                   \n",
       "2015-01-01 2015-01-01  \n",
       "2015-01-01 2015-01-01  \n",
       "2015-01-01 2015-01-01  \n",
       "2015-01-02 2015-01-02  \n",
       "2015-01-02 2015-01-02  \n",
       "\n",
       "[5 rows x 32 columns]"
      ]
     },
     "execution_count": 39,
     "metadata": {},
     "output_type": "execute_result"
    }
   ],
   "source": [
    "df.head()"
   ]
  },
  {
   "cell_type": "code",
   "execution_count": 40,
   "metadata": {
    "collapsed": false
   },
   "outputs": [
    {
     "data": {
      "text/plain": [
       "(467, 32)"
      ]
     },
     "execution_count": 40,
     "metadata": {},
     "output_type": "execute_result"
    }
   ],
   "source": [
    "df.shape"
   ]
  },
  {
   "cell_type": "code",
   "execution_count": 41,
   "metadata": {
    "collapsed": false
   },
   "outputs": [
    {
     "data": {
      "text/html": [
       "<div>\n",
       "<table border=\"1\" class=\"dataframe\">\n",
       "  <thead>\n",
       "    <tr style=\"text-align: right;\">\n",
       "      <th></th>\n",
       "      <th>name</th>\n",
       "      <th>age</th>\n",
       "      <th>gender</th>\n",
       "      <th>raceethnicity</th>\n",
       "      <th>streetaddress</th>\n",
       "      <th>city</th>\n",
       "      <th>state</th>\n",
       "      <th>latitude</th>\n",
       "      <th>longitude</th>\n",
       "      <th>state_fp</th>\n",
       "      <th>...</th>\n",
       "      <th>p_income</th>\n",
       "      <th>h_income</th>\n",
       "      <th>county_income</th>\n",
       "      <th>comp_income</th>\n",
       "      <th>county_bucket</th>\n",
       "      <th>nat_bucket</th>\n",
       "      <th>pov</th>\n",
       "      <th>urate</th>\n",
       "      <th>college</th>\n",
       "      <th>date</th>\n",
       "    </tr>\n",
       "    <tr>\n",
       "      <th>date</th>\n",
       "      <th></th>\n",
       "      <th></th>\n",
       "      <th></th>\n",
       "      <th></th>\n",
       "      <th></th>\n",
       "      <th></th>\n",
       "      <th></th>\n",
       "      <th></th>\n",
       "      <th></th>\n",
       "      <th></th>\n",
       "      <th></th>\n",
       "      <th></th>\n",
       "      <th></th>\n",
       "      <th></th>\n",
       "      <th></th>\n",
       "      <th></th>\n",
       "      <th></th>\n",
       "      <th></th>\n",
       "      <th></th>\n",
       "      <th></th>\n",
       "      <th></th>\n",
       "    </tr>\n",
       "  </thead>\n",
       "  <tbody>\n",
       "    <tr>\n",
       "      <th>2015-05-31</th>\n",
       "      <td>Richard Davis</td>\n",
       "      <td>50</td>\n",
       "      <td>Male</td>\n",
       "      <td>Black</td>\n",
       "      <td>Tremont St and Morgan St</td>\n",
       "      <td>Rochester</td>\n",
       "      <td>NY</td>\n",
       "      <td>43.147850</td>\n",
       "      <td>-77.630950</td>\n",
       "      <td>36</td>\n",
       "      <td>...</td>\n",
       "      <td>11558</td>\n",
       "      <td>18833</td>\n",
       "      <td>52394</td>\n",
       "      <td>0.359450</td>\n",
       "      <td>NaN</td>\n",
       "      <td>1</td>\n",
       "      <td>49.9</td>\n",
       "      <td>0.259259</td>\n",
       "      <td>0.096531</td>\n",
       "      <td>2015-05-31</td>\n",
       "    </tr>\n",
       "    <tr>\n",
       "      <th>2015-05-31</th>\n",
       "      <td>James Morris</td>\n",
       "      <td>40</td>\n",
       "      <td>Male</td>\n",
       "      <td>Unknown</td>\n",
       "      <td>Juanipero Way and La Loma Dr</td>\n",
       "      <td>Medford</td>\n",
       "      <td>OR</td>\n",
       "      <td>42.311009</td>\n",
       "      <td>-122.831627</td>\n",
       "      <td>41</td>\n",
       "      <td>...</td>\n",
       "      <td>22947</td>\n",
       "      <td>40781</td>\n",
       "      <td>44005</td>\n",
       "      <td>0.926736</td>\n",
       "      <td>2</td>\n",
       "      <td>2</td>\n",
       "      <td>20.2</td>\n",
       "      <td>0.187595</td>\n",
       "      <td>0.378758</td>\n",
       "      <td>2015-05-31</td>\n",
       "    </tr>\n",
       "    <tr>\n",
       "      <th>2015-05-31</th>\n",
       "      <td>Jeffrey Pitts</td>\n",
       "      <td>36</td>\n",
       "      <td>Male</td>\n",
       "      <td>White</td>\n",
       "      <td>3500 Ebenezer Rd</td>\n",
       "      <td>Conyers</td>\n",
       "      <td>GA</td>\n",
       "      <td>33.596124</td>\n",
       "      <td>-84.046333</td>\n",
       "      <td>13</td>\n",
       "      <td>...</td>\n",
       "      <td>29063</td>\n",
       "      <td>54146</td>\n",
       "      <td>52579</td>\n",
       "      <td>1.029803</td>\n",
       "      <td>NaN</td>\n",
       "      <td>3</td>\n",
       "      <td>8.1</td>\n",
       "      <td>0.140741</td>\n",
       "      <td>0.225638</td>\n",
       "      <td>2015-05-31</td>\n",
       "    </tr>\n",
       "    <tr>\n",
       "      <th>2015-06-01</th>\n",
       "      <td>Unknown</td>\n",
       "      <td>Unknown</td>\n",
       "      <td>Male</td>\n",
       "      <td>White</td>\n",
       "      <td>271 Greece Ridge Center Dr</td>\n",
       "      <td>Rochester</td>\n",
       "      <td>NY</td>\n",
       "      <td>32.407139</td>\n",
       "      <td>-96.073891</td>\n",
       "      <td>48</td>\n",
       "      <td>...</td>\n",
       "      <td>22969</td>\n",
       "      <td>50280</td>\n",
       "      <td>43439</td>\n",
       "      <td>1.157485</td>\n",
       "      <td>5</td>\n",
       "      <td>3</td>\n",
       "      <td>17.9</td>\n",
       "      <td>0.058573</td>\n",
       "      <td>0.100249</td>\n",
       "      <td>2015-06-01</td>\n",
       "    </tr>\n",
       "    <tr>\n",
       "      <th>2015-06-01</th>\n",
       "      <td>James Bushey</td>\n",
       "      <td>47</td>\n",
       "      <td>Male</td>\n",
       "      <td>White</td>\n",
       "      <td>2225 Texas Hwy 256 Loop</td>\n",
       "      <td>Palestine</td>\n",
       "      <td>TX</td>\n",
       "      <td>31.774197</td>\n",
       "      <td>-95.651957</td>\n",
       "      <td>48</td>\n",
       "      <td>...</td>\n",
       "      <td>18238</td>\n",
       "      <td>31815</td>\n",
       "      <td>40653</td>\n",
       "      <td>0.782599</td>\n",
       "      <td>NaN</td>\n",
       "      <td>1</td>\n",
       "      <td>34.8</td>\n",
       "      <td>0.097790</td>\n",
       "      <td>0.162666</td>\n",
       "      <td>2015-06-01</td>\n",
       "    </tr>\n",
       "  </tbody>\n",
       "</table>\n",
       "<p>5 rows × 32 columns</p>\n",
       "</div>"
      ],
      "text/plain": [
       "                     name      age gender raceethnicity  \\\n",
       "date                                                      \n",
       "2015-05-31  Richard Davis       50   Male         Black   \n",
       "2015-05-31   James Morris       40   Male       Unknown   \n",
       "2015-05-31  Jeffrey Pitts       36   Male         White   \n",
       "2015-06-01        Unknown  Unknown   Male         White   \n",
       "2015-06-01   James Bushey       47   Male         White   \n",
       "\n",
       "                           streetaddress       city state   latitude  \\\n",
       "date                                                                   \n",
       "2015-05-31      Tremont St and Morgan St  Rochester    NY  43.147850   \n",
       "2015-05-31  Juanipero Way and La Loma Dr    Medford    OR  42.311009   \n",
       "2015-05-31              3500 Ebenezer Rd    Conyers    GA  33.596124   \n",
       "2015-06-01    271 Greece Ridge Center Dr  Rochester    NY  32.407139   \n",
       "2015-06-01       2225 Texas Hwy 256 Loop  Palestine    TX  31.774197   \n",
       "\n",
       "             longitude  state_fp    ...      p_income  h_income  \\\n",
       "date                                ...                           \n",
       "2015-05-31  -77.630950        36    ...         11558     18833   \n",
       "2015-05-31 -122.831627        41    ...         22947     40781   \n",
       "2015-05-31  -84.046333        13    ...         29063     54146   \n",
       "2015-06-01  -96.073891        48    ...         22969     50280   \n",
       "2015-06-01  -95.651957        48    ...         18238     31815   \n",
       "\n",
       "            county_income  comp_income county_bucket nat_bucket   pov  \\\n",
       "date                                                                    \n",
       "2015-05-31          52394     0.359450           NaN          1  49.9   \n",
       "2015-05-31          44005     0.926736             2          2  20.2   \n",
       "2015-05-31          52579     1.029803           NaN          3   8.1   \n",
       "2015-06-01          43439     1.157485             5          3  17.9   \n",
       "2015-06-01          40653     0.782599           NaN          1  34.8   \n",
       "\n",
       "               urate   college       date  \n",
       "date                                       \n",
       "2015-05-31  0.259259  0.096531 2015-05-31  \n",
       "2015-05-31  0.187595  0.378758 2015-05-31  \n",
       "2015-05-31  0.140741  0.225638 2015-05-31  \n",
       "2015-06-01  0.058573  0.100249 2015-06-01  \n",
       "2015-06-01  0.097790  0.162666 2015-06-01  \n",
       "\n",
       "[5 rows x 32 columns]"
      ]
     },
     "execution_count": 41,
     "metadata": {},
     "output_type": "execute_result"
    }
   ],
   "source": [
    "df.tail()"
   ]
  },
  {
   "cell_type": "code",
   "execution_count": 52,
   "metadata": {
    "collapsed": false
   },
   "outputs": [],
   "source": [
    "df[\"date\"] = pd.to_datetime(df[\"date\"])"
   ]
  },
  {
   "cell_type": "code",
   "execution_count": 55,
   "metadata": {
    "collapsed": false
   },
   "outputs": [],
   "source": [
    "df[\"race\"] = df[\"raceethnicity\"]"
   ]
  },
  {
   "cell_type": "code",
   "execution_count": 56,
   "metadata": {
    "collapsed": true
   },
   "outputs": [],
   "source": [
    "del df[\"raceethnicity\"]"
   ]
  },
  {
   "cell_type": "code",
   "execution_count": 57,
   "metadata": {
    "collapsed": true
   },
   "outputs": [],
   "source": [
    "race_counts = df[\"race\"].value_counts()"
   ]
  },
  {
   "cell_type": "code",
   "execution_count": 58,
   "metadata": {
    "collapsed": false
   },
   "outputs": [
    {
     "data": {
      "text/plain": [
       "White                     236\n",
       "Black                     135\n",
       "Hispanic/Latino            67\n",
       "Unknown                    15\n",
       "Asian/Pacific Islander     10\n",
       "Native American             4\n",
       "Name: race, dtype: int64"
      ]
     },
     "execution_count": 58,
     "metadata": {},
     "output_type": "execute_result"
    }
   ],
   "source": [
    "race_counts"
   ]
  },
  {
   "cell_type": "code",
   "execution_count": 63,
   "metadata": {
    "collapsed": false
   },
   "outputs": [
    {
     "data": {
      "image/png": "[encoded data removed]",
      "text/plain": [
       "<matplotlib.figure.Figure at 0x11352ea50>"
      ]
     },
     "metadata": {},
     "output_type": "display_data"
    }
   ],
   "source": [
    "plt.bar(range(len(race_counts)), race_counts, align=\"center\")\n",
    "plt.xticks(range(len(race_counts)), race_counts.index, rotation=\"vertical\", size=20)\n",
    "plt.xlabel(\"Race\", size=20)\n",
    "plt.ylabel(\"Count\", size=20)\n",
    "plt.title(\"Count by race\")\n",
    "plt.show()"
   ]
  },
  {
   "cell_type": "code",
   "execution_count": 65,
   "metadata": {
    "collapsed": false
   },
   "outputs": [
    {
     "data": {
      "text/plain": [
       "<matplotlib.axes._subplots.AxesSubplot at 0x1136e1290>"
      ]
     },
     "execution_count": 65,
     "metadata": {},
     "output_type": "execute_result"
    },
    {
     "data": {
      "image/png": "[encoded data removed]",
      "text/plain": [
       "<matplotlib.figure.Figure at 0x1029e3d10>"
      ]
     },
     "metadata": {},
     "output_type": "display_data"
    }
   ],
   "source": [
    "df[\"p_income\"][df[\"p_income\"]!=\"-\"].astype(float).hist(bins=20)"
   ]
  },
  {
   "cell_type": "code",
   "execution_count": 67,
   "metadata": {
    "collapsed": false
   },
   "outputs": [
    {
     "data": {
      "text/plain": [
       "CA    74\n",
       "TX    46\n",
       "FL    29\n",
       "AZ    25\n",
       "OK    22\n",
       "GA    16\n",
       "NY    14\n",
       "CO    12\n",
       "NJ    11\n",
       "WA    11\n",
       "IL    11\n",
       "LA    11\n",
       "MO    10\n",
       "MD    10\n",
       "OH    10\n",
       "NC    10\n",
       "VA     9\n",
       "SC     9\n",
       "MI     9\n",
       "IN     8\n",
       "OR     8\n",
       "AL     8\n",
       "PA     7\n",
       "KY     7\n",
       "TN     6\n",
       "NE     6\n",
       "MS     6\n",
       "KS     6\n",
       "MN     6\n",
       "UT     5\n",
       "WI     5\n",
       "MA     5\n",
       "NM     5\n",
       "ID     4\n",
       "AR     4\n",
       "HI     4\n",
       "NV     3\n",
       "DE     2\n",
       "IA     2\n",
       "WV     2\n",
       "MT     2\n",
       "AK     2\n",
       "WY     1\n",
       "ME     1\n",
       "CT     1\n",
       "NH     1\n",
       "DC     1\n",
       "Name: state, dtype: int64"
      ]
     },
     "execution_count": 67,
     "metadata": {},
     "output_type": "execute_result"
    }
   ],
   "source": [
    "df[\"state\"].value_counts()"
   ]
  },
  {
   "cell_type": "code",
   "execution_count": 68,
   "metadata": {
    "collapsed": true
   },
   "outputs": [],
   "source": [
    "import csv"
   ]
  },
  {
   "cell_type": "code",
   "execution_count": 69,
   "metadata": {
    "collapsed": false
   },
   "outputs": [
    {
     "name": "stdout",
     "output_type": "stream",
     "text": [
      "538_README.md\r\n",
      "538_analysis_notebook.ipynb\r\n",
      "538_police_killings.csv\r\n",
      "\u001b[31mCOUNTED_README.txt\u001b[m\u001b[m\r\n",
      "Counted_Data_Analysis.ipynb\r\n",
      "WP_Fatal_Police_Shootings.csv\r\n",
      "Washington Post Data Analysis.ipynb\r\n",
      "ardpdqp.pdf\r\n",
      "\u001b[34mdata-police-shootings\u001b[m\u001b[m\r\n",
      "fatal_encounters_data.ipynb\r\n",
      "fatal_encounters_form_responses.csv\r\n",
      "\u001b[34mgraphics\u001b[m\u001b[m\r\n",
      "mapping-violence.html\r\n",
      "mapping_violence_13_15_Police Killings.csv\r\n",
      "police-locals.csv\r\n",
      "state_np.csv\r\n",
      "state_per_capita_rate.csv\r\n",
      "\u001b[31mthe-counted-2015.csv\u001b[m\u001b[m\r\n",
      "\u001b[31mthe-counted-2016.csv\u001b[m\u001b[m\r\n"
     ]
    }
   ],
   "source": [
    "! ls"
   ]
  },
  {
   "cell_type": "code",
   "execution_count": 75,
   "metadata": {
    "collapsed": false
   },
   "outputs": [
    {
     "ename": "Error",
     "evalue": "unknown dialect",
     "output_type": "error",
     "traceback": [
      "\u001b[0;31m---------------------------------------------------------------------------\u001b[0m",
      "\u001b[0;31mError\u001b[0m                                     Traceback (most recent call last)",
      "\u001b[0;32m<ipython-input-75-a5df662cb9be>\u001b[0m in \u001b[0;36m<module>\u001b[0;34m()\u001b[0m\n\u001b[0;32m----> 1\u001b[0;31m \u001b[0mf\u001b[0m \u001b[0;34m=\u001b[0m \u001b[0mcsv\u001b[0m\u001b[0;34m.\u001b[0m\u001b[0mreader\u001b[0m\u001b[0;34m(\u001b[0m\u001b[0;34m\"state_np.csv\"\u001b[0m\u001b[0;34m,\u001b[0m \u001b[0;34m\"r\"\u001b[0m\u001b[0;34m)\u001b[0m\u001b[0;34m\u001b[0m\u001b[0m\n\u001b[0m",
      "\u001b[0;31mError\u001b[0m: unknown dialect"
     ]
    }
   ],
   "source": [
    "f = csv.reader(\"state_np.csv\")"
   ]
  },
  {
   "cell_type": "code",
   "execution_count": 81,
   "metadata": {
    "collapsed": false
   },
   "outputs": [],
   "source": [
    "with open(\"state_np.pkl\", 'r') as picklefile: \n",
    "    state_np = pickle.load(picklefile)"
   ]
  },
  {
   "cell_type": "code",
   "execution_count": 82,
   "metadata": {
    "collapsed": false
   },
   "outputs": [
    {
     "data": {
      "text/plain": [
       "array([['WY', '1.02370386295'],\n",
       "       ['NM', '1.00714159308'],\n",
       "       ['OK', '0.971534549047'],\n",
       "       ['DC', '0.89255431193'],\n",
       "       ['AK', '0.67711041775'],\n",
       "       ['NV', '0.657247275451'],\n",
       "       ['WV', '0.650714050218'],\n",
       "       ['AZ', '0.644399255133'],\n",
       "       ['LA', '0.599478796007'],\n",
       "       ['CO', '0.568122048743'],\n",
       "       ['CA', '0.536469475985'],\n",
       "       ['ID', '0.483404131897'],\n",
       "       ['NE', '0.474635980572'],\n",
       "       ['KY', '0.429369604067'],\n",
       "       ['SC', '0.428908778456'],\n",
       "       ['DE', '0.422862483006'],\n",
       "       ['OR', '0.421943336981'],\n",
       "       ['MS', '0.401024885933'],\n",
       "       ['TX', '0.393168851387'],\n",
       "       ['AL', '0.391028650258'],\n",
       "       ['MT', '0.387240802789'],\n",
       "       ['GA', '0.381796715765'],\n",
       "       ['KS', '0.377793828291'],\n",
       "       ['MO', '0.361623703579'],\n",
       "       ['FL', '0.35024935781'],\n",
       "       ['HI', '0.34925883782'],\n",
       "       ['UT', '0.333787395454'],\n",
       "       ['WA', '0.32076532934'],\n",
       "       ['TN', '0.318167404234'],\n",
       "       ['IN', '0.317235878471'],\n",
       "       ['OH', '0.309986125538'],\n",
       "       ['MD', '0.283031386016'],\n",
       "       ['VA', '0.274365014977'],\n",
       "       ['NC', '0.258891890928'],\n",
       "       ['NJ', '0.256753367069'],\n",
       "       ['MN', '0.23681168407'],\n",
       "       ['SD', '0.232972885451'],\n",
       "       ['NH', '0.225460841961'],\n",
       "       ['WI', '0.207924091073'],\n",
       "       ['MI', '0.201560562499'],\n",
       "       ['PA', '0.187463342129'],\n",
       "       ['IL', '0.178849214172'],\n",
       "       ['AR', '0.167886417452'],\n",
       "       ['IA', '0.160056391068'],\n",
       "       ['VT', '0.159733691989'],\n",
       "       ['ME', '0.150451957681'],\n",
       "       ['MA', '0.147179554052'],\n",
       "       ['ND', '0.132113136405'],\n",
       "       ['NY', '0.126289472343'],\n",
       "       ['CT', '0.111393121363'],\n",
       "       ['RI', '0.0946702540382']], \n",
       "      dtype='|S15')"
      ]
     },
     "execution_count": 82,
     "metadata": {},
     "output_type": "execute_result"
    }
   ],
   "source": [
    "state_np"
   ]
  },
  {
   "cell_type": "code",
   "execution_count": 85,
   "metadata": {
    "collapsed": false
   },
   "outputs": [
    {
     "data": {
      "text/plain": [
       "Index([u'name', u'age', u'gender', u'streetaddress', u'city', u'state',\n",
       "       u'latitude', u'longitude', u'state_fp', u'county_fp', u'tract_ce',\n",
       "       u'geo_id', u'county_id', u'namelsad', u'lawenforcementagency', u'cause',\n",
       "       u'armed', u'pop', u'share_white', u'share_black', u'share_hispanic',\n",
       "       u'p_income', u'h_income', u'county_income', u'comp_income',\n",
       "       u'county_bucket', u'nat_bucket', u'pov', u'urate', u'college', u'date',\n",
       "       u'race'],\n",
       "      dtype='object')"
      ]
     },
     "execution_count": 85,
     "metadata": {},
     "output_type": "execute_result"
    }
   ],
   "source": [
    "df.columns"
   ]
  },
  {
   "cell_type": "code",
   "execution_count": 86,
   "metadata": {
    "collapsed": false
   },
   "outputs": [
    {
     "data": {
      "text/plain": [
       "date\n",
       "2015-01-01    25\n",
       "2015-01-01    13\n",
       "2015-01-01    12\n",
       "2015-01-02    41\n",
       "2015-01-02    53\n",
       "2015-01-03    15\n",
       "2015-01-03    20\n",
       "2015-01-04     6\n",
       "2015-01-04    40\n",
       "2015-01-05     4\n",
       "2015-01-05     8\n",
       "2015-01-06    19\n",
       "2015-01-06    42\n",
       "2015-01-06     6\n",
       "2015-01-06     6\n",
       "2015-01-06    20\n",
       "2015-01-07    48\n",
       "2015-01-07    17\n",
       "2015-01-07    19\n",
       "2015-01-07    31\n",
       "2015-01-07    39\n",
       "2015-01-08    22\n",
       "2015-01-08    49\n",
       "2015-01-08    49\n",
       "2015-01-08     5\n",
       "2015-01-08    30\n",
       "2015-01-09     5\n",
       "2015-01-09    48\n",
       "2015-01-11     6\n",
       "2015-01-11    32\n",
       "              ..\n",
       "2015-05-21    34\n",
       "2015-05-22    42\n",
       "2015-05-23    26\n",
       "2015-05-23    29\n",
       "2015-05-23     4\n",
       "2015-05-25    48\n",
       "2015-05-25     1\n",
       "2015-05-26    53\n",
       "2015-05-26    36\n",
       "2015-05-26    22\n",
       "2015-05-27    20\n",
       "2015-05-27     6\n",
       "2015-05-27    40\n",
       "2015-05-27     6\n",
       "2015-05-27    13\n",
       "2015-05-27    34\n",
       "2015-05-28    45\n",
       "2015-05-28    13\n",
       "2015-05-28    26\n",
       "2015-05-28     8\n",
       "2015-05-29    34\n",
       "2015-05-29    40\n",
       "2015-05-29    41\n",
       "2015-05-30    47\n",
       "2015-05-30     4\n",
       "2015-05-31    36\n",
       "2015-05-31    41\n",
       "2015-05-31    13\n",
       "2015-06-01    48\n",
       "2015-06-01    48\n",
       "Name: state_fp, dtype: int64"
      ]
     },
     "execution_count": 86,
     "metadata": {},
     "output_type": "execute_result"
    }
   ],
   "source": [
    "df.state_fp"
   ]
  },
  {
   "cell_type": "code",
   "execution_count": 87,
   "metadata": {
    "collapsed": false
   },
   "outputs": [
    {
     "data": {
      "text/plain": [
       "date\n",
       "2015-01-01     4\n",
       "2015-01-01     2\n",
       "2015-01-01     3\n",
       "2015-01-02     2\n",
       "2015-01-02     1\n",
       "2015-01-03     5\n",
       "2015-01-03     2\n",
       "2015-01-04     5\n",
       "2015-01-04     2\n",
       "2015-01-05     3\n",
       "2015-01-05     1\n",
       "2015-01-06     1\n",
       "2015-01-06     2\n",
       "2015-01-06     2\n",
       "2015-01-06     2\n",
       "2015-01-06     4\n",
       "2015-01-07     2\n",
       "2015-01-07     3\n",
       "2015-01-07     1\n",
       "2015-01-07     4\n",
       "2015-01-07   NaN\n",
       "2015-01-08     1\n",
       "2015-01-08     2\n",
       "2015-01-08     4\n",
       "2015-01-08     2\n",
       "2015-01-08     5\n",
       "2015-01-09     1\n",
       "2015-01-09     1\n",
       "2015-01-11     2\n",
       "2015-01-11     2\n",
       "              ..\n",
       "2015-05-21     1\n",
       "2015-05-22     2\n",
       "2015-05-23     2\n",
       "2015-05-23     4\n",
       "2015-05-23     5\n",
       "2015-05-25     5\n",
       "2015-05-25     3\n",
       "2015-05-26     1\n",
       "2015-05-26     2\n",
       "2015-05-26   NaN\n",
       "2015-05-27     1\n",
       "2015-05-27     4\n",
       "2015-05-27     5\n",
       "2015-05-27     4\n",
       "2015-05-27   NaN\n",
       "2015-05-27   NaN\n",
       "2015-05-28   NaN\n",
       "2015-05-28   NaN\n",
       "2015-05-28     5\n",
       "2015-05-28   NaN\n",
       "2015-05-29     2\n",
       "2015-05-29   NaN\n",
       "2015-05-29   NaN\n",
       "2015-05-30     1\n",
       "2015-05-30     1\n",
       "2015-05-31   NaN\n",
       "2015-05-31     2\n",
       "2015-05-31   NaN\n",
       "2015-06-01     5\n",
       "2015-06-01   NaN\n",
       "Name: county_bucket, dtype: float64"
      ]
     },
     "execution_count": 87,
     "metadata": {},
     "output_type": "execute_result"
    }
   ],
   "source": [
    "df.county_bucket"
   ]
  },
  {
   "cell_type": "code",
   "execution_count": null,
   "metadata": {
    "collapsed": true
   },
   "outputs": [],
   "source": []
  }
 ],
 "metadata": {
  "kernelspec": {
   "display_name": "Python 2",
   "language": "python",
   "name": "python2"
  },
  "language_info": {
   "codemirror_mode": {
    "name": "ipython",
    "version": 2
   },
   "file_extension": ".py",
   "mimetype": "text/x-python",
   "name": "python",
   "nbconvert_exporter": "python",
   "pygments_lexer": "ipython2",
   "version": "2.7.11"
  }
 },
 "nbformat": 4,
 "nbformat_minor": 0
}
