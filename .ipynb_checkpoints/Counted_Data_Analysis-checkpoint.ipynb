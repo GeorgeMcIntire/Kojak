{
 "cells": [
  {
   "cell_type": "markdown",
   "metadata": {},
   "source": [
    "# Guardian's Counted Data from 2015-16"
   ]
  },
  {
   "cell_type": "markdown",
   "metadata": {},
   "source": [
    "Link: https://numeracy.co/projects/382368K6Bkx"
   ]
  },
  {
   "cell_type": "code",
   "execution_count": 7,
   "metadata": {
    "collapsed": false
   },
   "outputs": [],
   "source": [
    "import pandas as pd\n",
    "import numpy as np\n",
    "import matplotlib.pyplot as plt\n",
    "%matplotlib inline"
   ]
  },
  {
   "cell_type": "code",
   "execution_count": 10,
   "metadata": {
    "collapsed": false
   },
   "outputs": [
    {
     "data": {
      "text/html": [
       "<style>body {\n",
       "    margin: 0;\n",
       "    font-family: Helvetica;\n",
       "}\n",
       "table.dataframe {\n",
       "    border-collapse: collapse;\n",
       "    border: none;\n",
       "}\n",
       "table.dataframe tr {\n",
       "    border: none;\n",
       "}\n",
       "table.dataframe td, table.dataframe th {\n",
       "    margin: 0;\n",
       "    border: 1px solid white;\n",
       "    padding-left: 0.25em;\n",
       "    padding-right: 0.25em;\n",
       "}\n",
       "table.dataframe th:not(:empty) {\n",
       "    background-color: #fec;\n",
       "    text-align: left;\n",
       "    font-weight: normal;\n",
       "}\n",
       "table.dataframe tr:nth-child(2) th:empty {\n",
       "    border-left: none;\n",
       "    border-right: 1px dashed #888;\n",
       "}\n",
       "table.dataframe td {\n",
       "    border: 2px solid #ccf;\n",
       "    background-color: #f4f4ff;\n",
       "}\n",
       "h3 {\n",
       "    color: white;\n",
       "    background-color: black;\n",
       "    padding: 0.5em;\n",
       "}\n",
       "</style>"
      ],
      "text/plain": [
       "<IPython.core.display.HTML object>"
      ]
     },
     "execution_count": 10,
     "metadata": {},
     "output_type": "execute_result"
    }
   ],
   "source": [
    "from IPython.core.display import HTML\n",
    "css = open('/Users/georgemcintire/Data Science:Python/pycon-pandas-tutorial/style-table.css').read() + open('/Users/georgemcintire/Data Science:Python/pycon-pandas-tutorial/style-notebook.css').read()\n",
    "HTML('<style>{}</style>'.format(css))"
   ]
  },
  {
   "cell_type": "code",
   "execution_count": 15,
   "metadata": {
    "collapsed": false
   },
   "outputs": [],
   "source": [
    "import seaborn as sns"
   ]
  },
  {
   "cell_type": "code",
   "execution_count": 16,
   "metadata": {
    "collapsed": true
   },
   "outputs": [],
   "source": [
    "import csv\n",
    "import pickle\n",
    "import collections"
   ]
  },
  {
   "cell_type": "code",
   "execution_count": 54,
   "metadata": {
    "collapsed": true
   },
   "outputs": [],
   "source": [
    "import requests\n",
    "from bs4 import BeautifulSoup"
   ]
  },
  {
   "cell_type": "code",
   "execution_count": 17,
   "metadata": {
    "collapsed": false
   },
   "outputs": [
    {
     "name": "stdout",
     "output_type": "stream",
     "text": [
      "\u001b[31mCOUNTED_README.txt\u001b[m\u001b[m\r\n",
      "Counted_Data_Analysis.ipynb\r\n",
      "WP_Fatal_Police_Shootings.csv\r\n",
      "Washington Post Data Analysis.ipynb\r\n",
      "ardpdqp.pdf\r\n",
      "\u001b[34mdata-police-shootings\u001b[m\u001b[m\r\n",
      "fatal_encounters_data.ipynb\r\n",
      "fatal_encounters_form_responses.csv\r\n",
      "mapping-violence.html\r\n",
      "mapping_violence_13_15_Police Killings.csv\r\n",
      "\u001b[31mthe-counted-2015.csv\u001b[m\u001b[m\r\n",
      "\u001b[31mthe-counted-2016.csv\u001b[m\u001b[m\r\n"
     ]
    }
   ],
   "source": [
    "! ls"
   ]
  },
  {
   "cell_type": "code",
   "execution_count": 18,
   "metadata": {
    "collapsed": true
   },
   "outputs": [],
   "source": [
    "df = pd.read_csv(\"the-counted-2015.csv\")"
   ]
  },
  {
   "cell_type": "code",
   "execution_count": 19,
   "metadata": {
    "collapsed": false
   },
   "outputs": [
    {
     "data": {
      "text/plain": [
       "(1140, 14)"
      ]
     },
     "execution_count": 19,
     "metadata": {},
     "output_type": "execute_result"
    }
   ],
   "source": [
    "df.shape"
   ]
  },
  {
   "cell_type": "code",
   "execution_count": 20,
   "metadata": {
    "collapsed": false
   },
   "outputs": [
    {
     "data": {
      "text/plain": [
       "Index([u'uid', u'name', u'age', u'gender', u'raceethnicity', u'month', u'day',\n",
       "       u'year', u'streetaddress', u'city', u'state', u'classification',\n",
       "       u'lawenforcementagency', u'armed'],\n",
       "      dtype='object')"
      ]
     },
     "execution_count": 20,
     "metadata": {},
     "output_type": "execute_result"
    }
   ],
   "source": [
    "df.columns"
   ]
  },
  {
   "cell_type": "code",
   "execution_count": 21,
   "metadata": {
    "collapsed": true
   },
   "outputs": [],
   "source": [
    "df.day = df.day.apply(lambda x:str(x))\n",
    "\n",
    "df.month = df.month.apply(lambda x:str(x))\n",
    "\n",
    "df.year = df.year.apply(lambda x:str(x))\n",
    "\n",
    "df[\"date\"] = df[\"month\"] + \"-\" + df[\"day\"] + \"-\" + df[\"year\"]"
   ]
  },
  {
   "cell_type": "code",
   "execution_count": 25,
   "metadata": {
    "collapsed": false
   },
   "outputs": [
    {
     "data": {
      "text/html": [
       "<div>\n",
       "<table border=\"1\" class=\"dataframe\">\n",
       "  <thead>\n",
       "    <tr style=\"text-align: right;\">\n",
       "      <th></th>\n",
       "      <th>uid</th>\n",
       "      <th>name</th>\n",
       "      <th>age</th>\n",
       "      <th>gender</th>\n",
       "      <th>raceethnicity</th>\n",
       "      <th>month</th>\n",
       "      <th>day</th>\n",
       "      <th>year</th>\n",
       "      <th>streetaddress</th>\n",
       "      <th>city</th>\n",
       "      <th>state</th>\n",
       "      <th>classification</th>\n",
       "      <th>lawenforcementagency</th>\n",
       "      <th>armed</th>\n",
       "      <th>date</th>\n",
       "    </tr>\n",
       "  </thead>\n",
       "  <tbody>\n",
       "    <tr>\n",
       "      <th>0</th>\n",
       "      <td>2</td>\n",
       "      <td>Matthew Ajibade</td>\n",
       "      <td>22</td>\n",
       "      <td>Male</td>\n",
       "      <td>Black</td>\n",
       "      <td>January</td>\n",
       "      <td>1</td>\n",
       "      <td>2015</td>\n",
       "      <td>1050 Carl Griffin Dr</td>\n",
       "      <td>Savannah</td>\n",
       "      <td>GA</td>\n",
       "      <td>Death in custody</td>\n",
       "      <td>Chatham County Sheriff's Office</td>\n",
       "      <td>No</td>\n",
       "      <td>January-1-2015</td>\n",
       "    </tr>\n",
       "    <tr>\n",
       "      <th>1</th>\n",
       "      <td>4</td>\n",
       "      <td>Lewis Lembke</td>\n",
       "      <td>47</td>\n",
       "      <td>Male</td>\n",
       "      <td>White</td>\n",
       "      <td>January</td>\n",
       "      <td>2</td>\n",
       "      <td>2015</td>\n",
       "      <td>4505 SW Masters Loop</td>\n",
       "      <td>Aloha</td>\n",
       "      <td>OR</td>\n",
       "      <td>Gunshot</td>\n",
       "      <td>Washington County Sheriff's Office</td>\n",
       "      <td>Firearm</td>\n",
       "      <td>January-2-2015</td>\n",
       "    </tr>\n",
       "    <tr>\n",
       "      <th>2</th>\n",
       "      <td>7</td>\n",
       "      <td>Tim Elliott</td>\n",
       "      <td>53</td>\n",
       "      <td>Male</td>\n",
       "      <td>Asian/Pacific Islander</td>\n",
       "      <td>January</td>\n",
       "      <td>2</td>\n",
       "      <td>2015</td>\n",
       "      <td>600 E Island Lake Dr</td>\n",
       "      <td>Shelton</td>\n",
       "      <td>WA</td>\n",
       "      <td>Gunshot</td>\n",
       "      <td>Mason County Sheriff's Office</td>\n",
       "      <td>Firearm</td>\n",
       "      <td>January-2-2015</td>\n",
       "    </tr>\n",
       "    <tr>\n",
       "      <th>3</th>\n",
       "      <td>5</td>\n",
       "      <td>Michael Kocher Jr</td>\n",
       "      <td>19</td>\n",
       "      <td>Male</td>\n",
       "      <td>White</td>\n",
       "      <td>January</td>\n",
       "      <td>3</td>\n",
       "      <td>2015</td>\n",
       "      <td>2600 Kaumualii Hwy</td>\n",
       "      <td>Kaumakani</td>\n",
       "      <td>HI</td>\n",
       "      <td>Struck by vehicle</td>\n",
       "      <td>Kauai Police Department</td>\n",
       "      <td>No</td>\n",
       "      <td>January-3-2015</td>\n",
       "    </tr>\n",
       "    <tr>\n",
       "      <th>4</th>\n",
       "      <td>6</td>\n",
       "      <td>John Quintero</td>\n",
       "      <td>23</td>\n",
       "      <td>Male</td>\n",
       "      <td>Hispanic/Latino</td>\n",
       "      <td>January</td>\n",
       "      <td>3</td>\n",
       "      <td>2015</td>\n",
       "      <td>500 North Oliver Ave</td>\n",
       "      <td>Wichita</td>\n",
       "      <td>KS</td>\n",
       "      <td>Gunshot</td>\n",
       "      <td>Wichita Police Department</td>\n",
       "      <td>No</td>\n",
       "      <td>January-3-2015</td>\n",
       "    </tr>\n",
       "  </tbody>\n",
       "</table>\n",
       "</div>"
      ],
      "text/plain": [
       "   uid               name age gender           raceethnicity    month day  \\\n",
       "0    2    Matthew Ajibade  22   Male                   Black  January   1   \n",
       "1    4       Lewis Lembke  47   Male                   White  January   2   \n",
       "2    7        Tim Elliott  53   Male  Asian/Pacific Islander  January   2   \n",
       "3    5  Michael Kocher Jr  19   Male                   White  January   3   \n",
       "4    6      John Quintero  23   Male         Hispanic/Latino  January   3   \n",
       "\n",
       "   year         streetaddress       city state     classification  \\\n",
       "0  2015  1050 Carl Griffin Dr   Savannah    GA   Death in custody   \n",
       "1  2015  4505 SW Masters Loop      Aloha    OR            Gunshot   \n",
       "2  2015  600 E Island Lake Dr    Shelton    WA            Gunshot   \n",
       "3  2015    2600 Kaumualii Hwy  Kaumakani    HI  Struck by vehicle   \n",
       "4  2015  500 North Oliver Ave    Wichita    KS            Gunshot   \n",
       "\n",
       "                 lawenforcementagency    armed            date  \n",
       "0     Chatham County Sheriff's Office       No  January-1-2015  \n",
       "1  Washington County Sheriff's Office  Firearm  January-2-2015  \n",
       "2       Mason County Sheriff's Office  Firearm  January-2-2015  \n",
       "3             Kauai Police Department       No  January-3-2015  \n",
       "4           Wichita Police Department       No  January-3-2015  "
      ]
     },
     "execution_count": 25,
     "metadata": {},
     "output_type": "execute_result"
    }
   ],
   "source": [
    "df.head()"
   ]
  },
  {
   "cell_type": "code",
   "execution_count": 31,
   "metadata": {
    "collapsed": false
   },
   "outputs": [],
   "source": [
    "df[\"date\"] = pd.to_datetime(df.date)"
   ]
  },
  {
   "cell_type": "code",
   "execution_count": 34,
   "metadata": {
    "collapsed": false
   },
   "outputs": [],
   "source": [
    "del df[\"month\"]\n",
    "\n",
    "del df[\"day\"]\n",
    "\n",
    "del df[\"year\"]"
   ]
  },
  {
   "cell_type": "code",
   "execution_count": 37,
   "metadata": {
    "collapsed": false
   },
   "outputs": [
    {
     "data": {
      "text/html": [
       "<div>\n",
       "<table border=\"1\" class=\"dataframe\">\n",
       "  <thead>\n",
       "    <tr style=\"text-align: right;\">\n",
       "      <th></th>\n",
       "      <th>uid</th>\n",
       "      <th>name</th>\n",
       "      <th>age</th>\n",
       "      <th>gender</th>\n",
       "      <th>raceethnicity</th>\n",
       "      <th>streetaddress</th>\n",
       "      <th>city</th>\n",
       "      <th>state</th>\n",
       "      <th>classification</th>\n",
       "      <th>lawenforcementagency</th>\n",
       "      <th>armed</th>\n",
       "      <th>date</th>\n",
       "    </tr>\n",
       "  </thead>\n",
       "  <tbody>\n",
       "    <tr>\n",
       "      <th>0</th>\n",
       "      <td>2</td>\n",
       "      <td>Matthew Ajibade</td>\n",
       "      <td>22</td>\n",
       "      <td>Male</td>\n",
       "      <td>Black</td>\n",
       "      <td>1050 Carl Griffin Dr</td>\n",
       "      <td>Savannah</td>\n",
       "      <td>GA</td>\n",
       "      <td>Death in custody</td>\n",
       "      <td>Chatham County Sheriff's Office</td>\n",
       "      <td>No</td>\n",
       "      <td>2015-01-01</td>\n",
       "    </tr>\n",
       "    <tr>\n",
       "      <th>1</th>\n",
       "      <td>4</td>\n",
       "      <td>Lewis Lembke</td>\n",
       "      <td>47</td>\n",
       "      <td>Male</td>\n",
       "      <td>White</td>\n",
       "      <td>4505 SW Masters Loop</td>\n",
       "      <td>Aloha</td>\n",
       "      <td>OR</td>\n",
       "      <td>Gunshot</td>\n",
       "      <td>Washington County Sheriff's Office</td>\n",
       "      <td>Firearm</td>\n",
       "      <td>2015-01-02</td>\n",
       "    </tr>\n",
       "    <tr>\n",
       "      <th>2</th>\n",
       "      <td>7</td>\n",
       "      <td>Tim Elliott</td>\n",
       "      <td>53</td>\n",
       "      <td>Male</td>\n",
       "      <td>Asian/Pacific Islander</td>\n",
       "      <td>600 E Island Lake Dr</td>\n",
       "      <td>Shelton</td>\n",
       "      <td>WA</td>\n",
       "      <td>Gunshot</td>\n",
       "      <td>Mason County Sheriff's Office</td>\n",
       "      <td>Firearm</td>\n",
       "      <td>2015-01-02</td>\n",
       "    </tr>\n",
       "    <tr>\n",
       "      <th>3</th>\n",
       "      <td>5</td>\n",
       "      <td>Michael Kocher Jr</td>\n",
       "      <td>19</td>\n",
       "      <td>Male</td>\n",
       "      <td>White</td>\n",
       "      <td>2600 Kaumualii Hwy</td>\n",
       "      <td>Kaumakani</td>\n",
       "      <td>HI</td>\n",
       "      <td>Struck by vehicle</td>\n",
       "      <td>Kauai Police Department</td>\n",
       "      <td>No</td>\n",
       "      <td>2015-01-03</td>\n",
       "    </tr>\n",
       "    <tr>\n",
       "      <th>4</th>\n",
       "      <td>6</td>\n",
       "      <td>John Quintero</td>\n",
       "      <td>23</td>\n",
       "      <td>Male</td>\n",
       "      <td>Hispanic/Latino</td>\n",
       "      <td>500 North Oliver Ave</td>\n",
       "      <td>Wichita</td>\n",
       "      <td>KS</td>\n",
       "      <td>Gunshot</td>\n",
       "      <td>Wichita Police Department</td>\n",
       "      <td>No</td>\n",
       "      <td>2015-01-03</td>\n",
       "    </tr>\n",
       "  </tbody>\n",
       "</table>\n",
       "</div>"
      ],
      "text/plain": [
       "   uid               name age gender           raceethnicity  \\\n",
       "0    2    Matthew Ajibade  22   Male                   Black   \n",
       "1    4       Lewis Lembke  47   Male                   White   \n",
       "2    7        Tim Elliott  53   Male  Asian/Pacific Islander   \n",
       "3    5  Michael Kocher Jr  19   Male                   White   \n",
       "4    6      John Quintero  23   Male         Hispanic/Latino   \n",
       "\n",
       "          streetaddress       city state     classification  \\\n",
       "0  1050 Carl Griffin Dr   Savannah    GA   Death in custody   \n",
       "1  4505 SW Masters Loop      Aloha    OR            Gunshot   \n",
       "2  600 E Island Lake Dr    Shelton    WA            Gunshot   \n",
       "3    2600 Kaumualii Hwy  Kaumakani    HI  Struck by vehicle   \n",
       "4  500 North Oliver Ave    Wichita    KS            Gunshot   \n",
       "\n",
       "                 lawenforcementagency    armed       date  \n",
       "0     Chatham County Sheriff's Office       No 2015-01-01  \n",
       "1  Washington County Sheriff's Office  Firearm 2015-01-02  \n",
       "2       Mason County Sheriff's Office  Firearm 2015-01-02  \n",
       "3             Kauai Police Department       No 2015-01-03  \n",
       "4           Wichita Police Department       No 2015-01-03  "
      ]
     },
     "execution_count": 37,
     "metadata": {},
     "output_type": "execute_result"
    }
   ],
   "source": [
    "df.head()"
   ]
  },
  {
   "cell_type": "code",
   "execution_count": 38,
   "metadata": {
    "collapsed": false
   },
   "outputs": [
    {
     "data": {
      "text/html": [
       "<div>\n",
       "<table border=\"1\" class=\"dataframe\">\n",
       "  <thead>\n",
       "    <tr style=\"text-align: right;\">\n",
       "      <th></th>\n",
       "      <th>uid</th>\n",
       "      <th>name</th>\n",
       "      <th>age</th>\n",
       "      <th>gender</th>\n",
       "      <th>raceethnicity</th>\n",
       "      <th>streetaddress</th>\n",
       "      <th>city</th>\n",
       "      <th>state</th>\n",
       "      <th>classification</th>\n",
       "      <th>lawenforcementagency</th>\n",
       "      <th>armed</th>\n",
       "      <th>date</th>\n",
       "    </tr>\n",
       "  </thead>\n",
       "  <tbody>\n",
       "    <tr>\n",
       "      <th>1135</th>\n",
       "      <td>1160</td>\n",
       "      <td>John Veach</td>\n",
       "      <td>39</td>\n",
       "      <td>Male</td>\n",
       "      <td>Unknown</td>\n",
       "      <td>1115 N Higley Blvd</td>\n",
       "      <td>Rawlins</td>\n",
       "      <td>WY</td>\n",
       "      <td>Gunshot</td>\n",
       "      <td>Rawlins Police Department</td>\n",
       "      <td>Unknown</td>\n",
       "      <td>2015-12-30</td>\n",
       "    </tr>\n",
       "    <tr>\n",
       "      <th>1136</th>\n",
       "      <td>1161</td>\n",
       "      <td>Eugene McSwain</td>\n",
       "      <td>25</td>\n",
       "      <td>Male</td>\n",
       "      <td>Black</td>\n",
       "      <td>10600 S Cottage Grove Ave</td>\n",
       "      <td>Chicago</td>\n",
       "      <td>IL</td>\n",
       "      <td>Gunshot</td>\n",
       "      <td>Chicago Police Department</td>\n",
       "      <td>Firearm</td>\n",
       "      <td>2015-07-10</td>\n",
       "    </tr>\n",
       "    <tr>\n",
       "      <th>1137</th>\n",
       "      <td>1162</td>\n",
       "      <td>Gilbert Heredia</td>\n",
       "      <td>38</td>\n",
       "      <td>Male</td>\n",
       "      <td>Hispanic/Latino</td>\n",
       "      <td>Montana Ave</td>\n",
       "      <td>Homedale</td>\n",
       "      <td>ID</td>\n",
       "      <td>Gunshot</td>\n",
       "      <td>Homedale Police Department</td>\n",
       "      <td>Firearm</td>\n",
       "      <td>2015-12-26</td>\n",
       "    </tr>\n",
       "    <tr>\n",
       "      <th>1138</th>\n",
       "      <td>1163</td>\n",
       "      <td>Raymone Davis</td>\n",
       "      <td>21</td>\n",
       "      <td>Male</td>\n",
       "      <td>Unknown</td>\n",
       "      <td>122 Shiloh St</td>\n",
       "      <td>Pittsburgh</td>\n",
       "      <td>PA</td>\n",
       "      <td>Gunshot</td>\n",
       "      <td>Pittsburgh Bureau of Police</td>\n",
       "      <td>Firearm</td>\n",
       "      <td>2015-12-04</td>\n",
       "    </tr>\n",
       "    <tr>\n",
       "      <th>1139</th>\n",
       "      <td>1164</td>\n",
       "      <td>Lionel Waters</td>\n",
       "      <td>35</td>\n",
       "      <td>Male</td>\n",
       "      <td>Black</td>\n",
       "      <td>600 Milford Harrington Hwy</td>\n",
       "      <td>Harrington</td>\n",
       "      <td>DE</td>\n",
       "      <td>Taser</td>\n",
       "      <td>Delaware State Police</td>\n",
       "      <td>Firearm</td>\n",
       "      <td>2015-12-20</td>\n",
       "    </tr>\n",
       "  </tbody>\n",
       "</table>\n",
       "</div>"
      ],
      "text/plain": [
       "       uid             name age gender    raceethnicity  \\\n",
       "1135  1160       John Veach  39   Male          Unknown   \n",
       "1136  1161   Eugene McSwain  25   Male            Black   \n",
       "1137  1162  Gilbert Heredia  38   Male  Hispanic/Latino   \n",
       "1138  1163    Raymone Davis  21   Male          Unknown   \n",
       "1139  1164    Lionel Waters  35   Male            Black   \n",
       "\n",
       "                   streetaddress        city state classification  \\\n",
       "1135          1115 N Higley Blvd     Rawlins    WY        Gunshot   \n",
       "1136   10600 S Cottage Grove Ave     Chicago    IL        Gunshot   \n",
       "1137                 Montana Ave    Homedale    ID        Gunshot   \n",
       "1138               122 Shiloh St  Pittsburgh    PA        Gunshot   \n",
       "1139  600 Milford Harrington Hwy  Harrington    DE          Taser   \n",
       "\n",
       "             lawenforcementagency    armed       date  \n",
       "1135    Rawlins Police Department  Unknown 2015-12-30  \n",
       "1136    Chicago Police Department  Firearm 2015-07-10  \n",
       "1137   Homedale Police Department  Firearm 2015-12-26  \n",
       "1138  Pittsburgh Bureau of Police  Firearm 2015-12-04  \n",
       "1139        Delaware State Police  Firearm 2015-12-20  "
      ]
     },
     "execution_count": 38,
     "metadata": {},
     "output_type": "execute_result"
    }
   ],
   "source": [
    "df.tail()"
   ]
  },
  {
   "cell_type": "markdown",
   "metadata": {},
   "source": [
    "Plotting histogram of states"
   ]
  },
  {
   "cell_type": "code",
   "execution_count": 43,
   "metadata": {
    "collapsed": false
   },
   "outputs": [
    {
     "data": {
      "text/plain": [
       "51"
      ]
     },
     "execution_count": 43,
     "metadata": {},
     "output_type": "execute_result"
    }
   ],
   "source": [
    "plt.bar()"
   ]
  },
  {
   "cell_type": "code",
   "execution_count": 44,
   "metadata": {
    "collapsed": true
   },
   "outputs": [],
   "source": [
    "state_counts = df[\"state\"].value_counts()"
   ]
  },
  {
   "cell_type": "code",
   "execution_count": 53,
   "metadata": {
    "collapsed": false
   },
   "outputs": [
    {
     "data": {
      "image/png": "[encoded data removed]",
      "text/plain": [
       "<matplotlib.figure.Figure at 0x114414b10>"
      ]
     },
     "metadata": {},
     "output_type": "display_data"
    }
   ],
   "source": [
    "plt.figure(figsize=(18,7))\n",
    "plt.bar(range(51), state_counts)\n",
    "plt.xticks(range(51), state_counts.index, rotation=\"vertical\", size= 15)\n",
    "plt.xlabel(\"State\", size=20)\n",
    "plt.ylabel(\"State death count\", size=20)\n",
    "plt.title(\"Number of police-related fatalities in 2015 by state\", size=30)\n",
    "plt.show()"
   ]
  },
  {
   "cell_type": "code",
   "execution_count": 126,
   "metadata": {
    "collapsed": false
   },
   "outputs": [],
   "source": [
    "states = pd.read_csv(\"/Users/georgemcintire/Downloads/statetable.csv\", names=[\"state\", \"pop\"])"
   ]
  },
  {
   "cell_type": "code",
   "execution_count": 128,
   "metadata": {
    "collapsed": false
   },
   "outputs": [],
   "source": [
    "states = states.iloc[1:,:]"
   ]
  },
  {
   "cell_type": "code",
   "execution_count": 133,
   "metadata": {
    "collapsed": false
   },
   "outputs": [
    {
     "name": "stderr",
     "output_type": "stream",
     "text": [
      "/Users/georgemcintire/anaconda/lib/python2.7/site-packages/ipykernel/__main__.py:1: SettingWithCopyWarning: \n",
      "A value is trying to be set on a copy of a slice from a DataFrame.\n",
      "Try using .loc[row_indexer,col_indexer] = value instead\n",
      "\n",
      "See the caveats in the documentation: http://pandas.pydata.org/pandas-docs/stable/indexing.html#indexing-view-versus-copy\n",
      "  if __name__ == '__main__':\n"
     ]
    }
   ],
   "source": [
    "states[\"pop\"] = states[\"pop\"].map(lambda x:str(x).replace(\",\", \"\"))"
   ]
  },
  {
   "cell_type": "code",
   "execution_count": 138,
   "metadata": {
    "collapsed": false
   },
   "outputs": [
    {
     "name": "stderr",
     "output_type": "stream",
     "text": [
      "/Users/georgemcintire/anaconda/lib/python2.7/site-packages/ipykernel/__main__.py:1: SettingWithCopyWarning: \n",
      "A value is trying to be set on a copy of a slice from a DataFrame.\n",
      "Try using .loc[row_indexer,col_indexer] = value instead\n",
      "\n",
      "See the caveats in the documentation: http://pandas.pydata.org/pandas-docs/stable/indexing.html#indexing-view-versus-copy\n",
      "  if __name__ == '__main__':\n"
     ]
    }
   ],
   "source": [
    "states[\"pop\"] = states[\"pop\"].astype(float)"
   ]
  },
  {
   "cell_type": "code",
   "execution_count": 144,
   "metadata": {
    "collapsed": false
   },
   "outputs": [],
   "source": [
    "r = r.split(\"\\n\")"
   ]
  },
  {
   "cell_type": "code",
   "execution_count": 145,
   "metadata": {
    "collapsed": true
   },
   "outputs": [],
   "source": [
    "r = [i.split(\",\") for i in r]"
   ]
  },
  {
   "cell_type": "code",
   "execution_count": 152,
   "metadata": {
    "collapsed": false
   },
   "outputs": [],
   "source": [
    "states_dict = {}\n",
    "for i in r:\n",
    "    states_dict[i[0]] = i[1]"
   ]
  },
  {
   "cell_type": "code",
   "execution_count": 157,
   "metadata": {
    "collapsed": false
   },
   "outputs": [
    {
     "name": "stderr",
     "output_type": "stream",
     "text": [
      "/Users/georgemcintire/anaconda/lib/python2.7/site-packages/ipykernel/__main__.py:1: SettingWithCopyWarning: \n",
      "A value is trying to be set on a copy of a slice from a DataFrame.\n",
      "Try using .loc[row_indexer,col_indexer] = value instead\n",
      "\n",
      "See the caveats in the documentation: http://pandas.pydata.org/pandas-docs/stable/indexing.html#indexing-view-versus-copy\n",
      "  if __name__ == '__main__':\n"
     ]
    }
   ],
   "source": [
    "states[\"states_abr\"] = states[\"state\"].map(states_dict)"
   ]
  },
  {
   "cell_type": "code",
   "execution_count": 161,
   "metadata": {
    "collapsed": false
   },
   "outputs": [
    {
     "name": "stderr",
     "output_type": "stream",
     "text": [
      "/Users/georgemcintire/anaconda/lib/python2.7/site-packages/pandas/core/indexing.py:426: SettingWithCopyWarning: \n",
      "A value is trying to be set on a copy of a slice from a DataFrame.\n",
      "Try using .loc[row_indexer,col_indexer] = value instead\n",
      "\n",
      "See the caveats in the documentation: http://pandas.pydata.org/pandas-docs/stable/indexing.html#indexing-view-versus-copy\n",
      "  self.obj[item] = s\n"
     ]
    }
   ],
   "source": [
    "states.iloc[48, 2] = \"DC\""
   ]
  },
  {
   "cell_type": "code",
   "execution_count": 164,
   "metadata": {
    "collapsed": false
   },
   "outputs": [],
   "source": [
    "sd = {}\n",
    "for i, e in states.iterrows():\n",
    "    sd[e.states_abr] = e.pop"
   ]
  },
  {
   "cell_type": "code",
   "execution_count": 175,
   "metadata": {
    "collapsed": false
   },
   "outputs": [],
   "source": [
    "st_dict = dict(zip(states[\"states_abr\"], states[\"pop\"]))"
   ]
  },
  {
   "cell_type": "code",
   "execution_count": 176,
   "metadata": {
    "collapsed": true
   },
   "outputs": [],
   "source": [
    "df[\"state_pop\"] = df[\"state\"].map(st_dict)"
   ]
  },
  {
   "cell_type": "code",
   "execution_count": 183,
   "metadata": {
    "collapsed": true
   },
   "outputs": [],
   "source": [
    "st_items = st_dict.items()"
   ]
  },
  {
   "cell_type": "code",
   "execution_count": 184,
   "metadata": {
    "collapsed": false
   },
   "outputs": [],
   "source": [
    "del st_items[0]"
   ]
  },
  {
   "cell_type": "code",
   "execution_count": 186,
   "metadata": {
    "collapsed": false
   },
   "outputs": [],
   "source": [
    "st_dict= dict(st_items)"
   ]
  },
  {
   "cell_type": "code",
   "execution_count": 188,
   "metadata": {
    "collapsed": false
   },
   "outputs": [
    {
     "data": {
      "text/plain": [
       "pandas.core.series.Series"
      ]
     },
     "execution_count": 188,
     "metadata": {},
     "output_type": "execute_result"
    }
   ],
   "source": [
    "type(state_counts)"
   ]
  },
  {
   "cell_type": "code",
   "execution_count": 197,
   "metadata": {
    "collapsed": false
   },
   "outputs": [],
   "source": [
    "counts = pd.value_counts(df[\"state\"]).to_dict()"
   ]
  },
  {
   "cell_type": "code",
   "execution_count": 200,
   "metadata": {
    "collapsed": false
   },
   "outputs": [],
   "source": [
    "df[\"state_count\"] = df[\"state\"].map(counts)"
   ]
  },
  {
   "cell_type": "code",
   "execution_count": 202,
   "metadata": {
    "collapsed": false
   },
   "outputs": [],
   "source": [
    "df[\"st_per_capita_per_100k\"] = (df[\"state_count\"]/df[\"state_pop\"])*100000"
   ]
  },
  {
   "cell_type": "code",
   "execution_count": 207,
   "metadata": {
    "collapsed": false
   },
   "outputs": [
    {
     "data": {
      "text/html": [
       "<div>\n",
       "<table border=\"1\" class=\"dataframe\">\n",
       "  <thead>\n",
       "    <tr style=\"text-align: right;\">\n",
       "      <th></th>\n",
       "      <th>uid</th>\n",
       "      <th>name</th>\n",
       "      <th>age</th>\n",
       "      <th>gender</th>\n",
       "      <th>raceethnicity</th>\n",
       "      <th>streetaddress</th>\n",
       "      <th>city</th>\n",
       "      <th>state</th>\n",
       "      <th>classification</th>\n",
       "      <th>lawenforcementagency</th>\n",
       "      <th>armed</th>\n",
       "      <th>date</th>\n",
       "      <th>state_pop</th>\n",
       "      <th>state_count</th>\n",
       "      <th>st_per_capita_per_100k</th>\n",
       "    </tr>\n",
       "  </thead>\n",
       "  <tbody>\n",
       "    <tr>\n",
       "      <th>0</th>\n",
       "      <td>2</td>\n",
       "      <td>Matthew Ajibade</td>\n",
       "      <td>22</td>\n",
       "      <td>Male</td>\n",
       "      <td>Black</td>\n",
       "      <td>1050 Carl Griffin Dr</td>\n",
       "      <td>Savannah</td>\n",
       "      <td>GA</td>\n",
       "      <td>Death in custody</td>\n",
       "      <td>Chatham County Sheriff's Office</td>\n",
       "      <td>No</td>\n",
       "      <td>2015-01-01</td>\n",
       "      <td>10214860</td>\n",
       "      <td>39</td>\n",
       "      <td>0.381797</td>\n",
       "    </tr>\n",
       "    <tr>\n",
       "      <th>1</th>\n",
       "      <td>4</td>\n",
       "      <td>Lewis Lembke</td>\n",
       "      <td>47</td>\n",
       "      <td>Male</td>\n",
       "      <td>White</td>\n",
       "      <td>4505 SW Masters Loop</td>\n",
       "      <td>Aloha</td>\n",
       "      <td>OR</td>\n",
       "      <td>Gunshot</td>\n",
       "      <td>Washington County Sheriff's Office</td>\n",
       "      <td>Firearm</td>\n",
       "      <td>2015-01-02</td>\n",
       "      <td>4028977</td>\n",
       "      <td>17</td>\n",
       "      <td>0.421943</td>\n",
       "    </tr>\n",
       "    <tr>\n",
       "      <th>2</th>\n",
       "      <td>7</td>\n",
       "      <td>Tim Elliott</td>\n",
       "      <td>53</td>\n",
       "      <td>Male</td>\n",
       "      <td>Asian/Pacific Islander</td>\n",
       "      <td>600 E Island Lake Dr</td>\n",
       "      <td>Shelton</td>\n",
       "      <td>WA</td>\n",
       "      <td>Gunshot</td>\n",
       "      <td>Mason County Sheriff's Office</td>\n",
       "      <td>Firearm</td>\n",
       "      <td>2015-01-02</td>\n",
       "      <td>7170351</td>\n",
       "      <td>23</td>\n",
       "      <td>0.320765</td>\n",
       "    </tr>\n",
       "    <tr>\n",
       "      <th>3</th>\n",
       "      <td>5</td>\n",
       "      <td>Michael Kocher Jr</td>\n",
       "      <td>19</td>\n",
       "      <td>Male</td>\n",
       "      <td>White</td>\n",
       "      <td>2600 Kaumualii Hwy</td>\n",
       "      <td>Kaumakani</td>\n",
       "      <td>HI</td>\n",
       "      <td>Struck by vehicle</td>\n",
       "      <td>Kauai Police Department</td>\n",
       "      <td>No</td>\n",
       "      <td>2015-01-03</td>\n",
       "      <td>1431603</td>\n",
       "      <td>5</td>\n",
       "      <td>0.349259</td>\n",
       "    </tr>\n",
       "    <tr>\n",
       "      <th>4</th>\n",
       "      <td>6</td>\n",
       "      <td>John Quintero</td>\n",
       "      <td>23</td>\n",
       "      <td>Male</td>\n",
       "      <td>Hispanic/Latino</td>\n",
       "      <td>500 North Oliver Ave</td>\n",
       "      <td>Wichita</td>\n",
       "      <td>KS</td>\n",
       "      <td>Gunshot</td>\n",
       "      <td>Wichita Police Department</td>\n",
       "      <td>No</td>\n",
       "      <td>2015-01-03</td>\n",
       "      <td>2911641</td>\n",
       "      <td>11</td>\n",
       "      <td>0.377794</td>\n",
       "    </tr>\n",
       "    <tr>\n",
       "      <th>5</th>\n",
       "      <td>8</td>\n",
       "      <td>Matthew Hoffman</td>\n",
       "      <td>32</td>\n",
       "      <td>Male</td>\n",
       "      <td>White</td>\n",
       "      <td>630 Valencia St</td>\n",
       "      <td>San Francisco</td>\n",
       "      <td>CA</td>\n",
       "      <td>Gunshot</td>\n",
       "      <td>San Francisco Police Department</td>\n",
       "      <td>Non-lethal firearm</td>\n",
       "      <td>2015-01-04</td>\n",
       "      <td>39144818</td>\n",
       "      <td>210</td>\n",
       "      <td>0.536469</td>\n",
       "    </tr>\n",
       "    <tr>\n",
       "      <th>6</th>\n",
       "      <td>91</td>\n",
       "      <td>Kenneth Brown</td>\n",
       "      <td>18</td>\n",
       "      <td>Male</td>\n",
       "      <td>White</td>\n",
       "      <td>NaN</td>\n",
       "      <td>Guthrie</td>\n",
       "      <td>OK</td>\n",
       "      <td>Gunshot</td>\n",
       "      <td>Oklahoma State Police</td>\n",
       "      <td>Firearm</td>\n",
       "      <td>2015-01-04</td>\n",
       "      <td>3911338</td>\n",
       "      <td>38</td>\n",
       "      <td>0.971535</td>\n",
       "    </tr>\n",
       "    <tr>\n",
       "      <th>7</th>\n",
       "      <td>9</td>\n",
       "      <td>Kenneth Buck</td>\n",
       "      <td>22</td>\n",
       "      <td>Male</td>\n",
       "      <td>Hispanic/Latino</td>\n",
       "      <td>E Knox Rd and N Exeter St</td>\n",
       "      <td>Chandler</td>\n",
       "      <td>AZ</td>\n",
       "      <td>Gunshot</td>\n",
       "      <td>Chandler Police Department</td>\n",
       "      <td>Firearm</td>\n",
       "      <td>2015-01-05</td>\n",
       "      <td>6828065</td>\n",
       "      <td>44</td>\n",
       "      <td>0.644399</td>\n",
       "    </tr>\n",
       "    <tr>\n",
       "      <th>8</th>\n",
       "      <td>10</td>\n",
       "      <td>Michael Rodriguez</td>\n",
       "      <td>39</td>\n",
       "      <td>Male</td>\n",
       "      <td>Hispanic/Latino</td>\n",
       "      <td>818 31st St</td>\n",
       "      <td>Evans</td>\n",
       "      <td>CO</td>\n",
       "      <td>Gunshot</td>\n",
       "      <td>Evans Police Department</td>\n",
       "      <td>Other</td>\n",
       "      <td>2015-01-05</td>\n",
       "      <td>5456574</td>\n",
       "      <td>31</td>\n",
       "      <td>0.568122</td>\n",
       "    </tr>\n",
       "    <tr>\n",
       "      <th>9</th>\n",
       "      <td>1010</td>\n",
       "      <td>Frank Smart</td>\n",
       "      <td>39</td>\n",
       "      <td>Male</td>\n",
       "      <td>Black</td>\n",
       "      <td>950 Second Ave</td>\n",
       "      <td>Pittsburgh</td>\n",
       "      <td>PA</td>\n",
       "      <td>Death in custody</td>\n",
       "      <td>Allegheny County Bureau of Corrections</td>\n",
       "      <td>No</td>\n",
       "      <td>2015-01-05</td>\n",
       "      <td>12802503</td>\n",
       "      <td>24</td>\n",
       "      <td>0.187463</td>\n",
       "    </tr>\n",
       "    <tr>\n",
       "      <th>10</th>\n",
       "      <td>11</td>\n",
       "      <td>Patrick Wetter</td>\n",
       "      <td>25</td>\n",
       "      <td>Male</td>\n",
       "      <td>White</td>\n",
       "      <td>800 Howard St</td>\n",
       "      <td>Stockton</td>\n",
       "      <td>CA</td>\n",
       "      <td>Gunshot</td>\n",
       "      <td>Stockton Police Department</td>\n",
       "      <td>Knife</td>\n",
       "      <td>2015-01-06</td>\n",
       "      <td>39144818</td>\n",
       "      <td>210</td>\n",
       "      <td>0.536469</td>\n",
       "    </tr>\n",
       "    <tr>\n",
       "      <th>11</th>\n",
       "      <td>12</td>\n",
       "      <td>Brian Pickett</td>\n",
       "      <td>26</td>\n",
       "      <td>Male</td>\n",
       "      <td>Black</td>\n",
       "      <td>1618 E 123rd St</td>\n",
       "      <td>Los Angeles</td>\n",
       "      <td>CA</td>\n",
       "      <td>Taser</td>\n",
       "      <td>Los Angeles County Sheriff's Department</td>\n",
       "      <td>No</td>\n",
       "      <td>2015-01-06</td>\n",
       "      <td>39144818</td>\n",
       "      <td>210</td>\n",
       "      <td>0.536469</td>\n",
       "    </tr>\n",
       "    <tr>\n",
       "      <th>12</th>\n",
       "      <td>13</td>\n",
       "      <td>Autumn Steele</td>\n",
       "      <td>34</td>\n",
       "      <td>Female</td>\n",
       "      <td>White</td>\n",
       "      <td>104 N Garfield Ave</td>\n",
       "      <td>Burlington</td>\n",
       "      <td>IA</td>\n",
       "      <td>Gunshot</td>\n",
       "      <td>Burlington Police Department</td>\n",
       "      <td>No</td>\n",
       "      <td>2015-01-06</td>\n",
       "      <td>3123899</td>\n",
       "      <td>5</td>\n",
       "      <td>0.160056</td>\n",
       "    </tr>\n",
       "    <tr>\n",
       "      <th>13</th>\n",
       "      <td>14</td>\n",
       "      <td>Brock Nichols</td>\n",
       "      <td>35</td>\n",
       "      <td>Male</td>\n",
       "      <td>White</td>\n",
       "      <td>2388 E Kansas Hwy 4</td>\n",
       "      <td>Assaria</td>\n",
       "      <td>KS</td>\n",
       "      <td>Gunshot</td>\n",
       "      <td>Saline County Sheriff's Office</td>\n",
       "      <td>Firearm</td>\n",
       "      <td>2015-01-06</td>\n",
       "      <td>2911641</td>\n",
       "      <td>11</td>\n",
       "      <td>0.377794</td>\n",
       "    </tr>\n",
       "    <tr>\n",
       "      <th>14</th>\n",
       "      <td>15</td>\n",
       "      <td>Leslie Sapp III</td>\n",
       "      <td>47</td>\n",
       "      <td>Male</td>\n",
       "      <td>Black</td>\n",
       "      <td>Redlyn St</td>\n",
       "      <td>Pittsburgh</td>\n",
       "      <td>PA</td>\n",
       "      <td>Gunshot</td>\n",
       "      <td>US Marshals Service, Pennsylvania State Police...</td>\n",
       "      <td>Non-lethal firearm</td>\n",
       "      <td>2015-01-06</td>\n",
       "      <td>12802503</td>\n",
       "      <td>24</td>\n",
       "      <td>0.187463</td>\n",
       "    </tr>\n",
       "    <tr>\n",
       "      <th>15</th>\n",
       "      <td>16</td>\n",
       "      <td>Nicholas Brickman</td>\n",
       "      <td>30</td>\n",
       "      <td>Male</td>\n",
       "      <td>White</td>\n",
       "      <td>SE 4th St and Scott Ave</td>\n",
       "      <td>Des Moines</td>\n",
       "      <td>IA</td>\n",
       "      <td>Gunshot</td>\n",
       "      <td>Des Moines Police Department</td>\n",
       "      <td>Firearm</td>\n",
       "      <td>2015-01-07</td>\n",
       "      <td>3123899</td>\n",
       "      <td>5</td>\n",
       "      <td>0.160056</td>\n",
       "    </tr>\n",
       "    <tr>\n",
       "      <th>16</th>\n",
       "      <td>17</td>\n",
       "      <td>Joseph Caffarello</td>\n",
       "      <td>31</td>\n",
       "      <td>Male</td>\n",
       "      <td>White</td>\n",
       "      <td>6300 Scott St</td>\n",
       "      <td>Rosemont</td>\n",
       "      <td>IL</td>\n",
       "      <td>Gunshot</td>\n",
       "      <td>Rosemont Police Department</td>\n",
       "      <td>Vehicle</td>\n",
       "      <td>2015-01-07</td>\n",
       "      <td>12859995</td>\n",
       "      <td>23</td>\n",
       "      <td>0.178849</td>\n",
       "    </tr>\n",
       "    <tr>\n",
       "      <th>17</th>\n",
       "      <td>20</td>\n",
       "      <td>Andre Murphy Sr</td>\n",
       "      <td>42</td>\n",
       "      <td>Male</td>\n",
       "      <td>Black</td>\n",
       "      <td>1223 Omaha Ave</td>\n",
       "      <td>Norfolk</td>\n",
       "      <td>NE</td>\n",
       "      <td>Death in custody</td>\n",
       "      <td>Norfolk Police Division</td>\n",
       "      <td>No</td>\n",
       "      <td>2015-01-07</td>\n",
       "      <td>1896190</td>\n",
       "      <td>9</td>\n",
       "      <td>0.474636</td>\n",
       "    </tr>\n",
       "    <tr>\n",
       "      <th>18</th>\n",
       "      <td>422</td>\n",
       "      <td>Hashim Abdul-Rasheed</td>\n",
       "      <td>41</td>\n",
       "      <td>Male</td>\n",
       "      <td>Black</td>\n",
       "      <td>4600 International Gateway</td>\n",
       "      <td>Columbus</td>\n",
       "      <td>OH</td>\n",
       "      <td>Gunshot</td>\n",
       "      <td>Columbus Police Department</td>\n",
       "      <td>Knife</td>\n",
       "      <td>2015-01-07</td>\n",
       "      <td>11613423</td>\n",
       "      <td>36</td>\n",
       "      <td>0.309986</td>\n",
       "    </tr>\n",
       "    <tr>\n",
       "      <th>19</th>\n",
       "      <td>18</td>\n",
       "      <td>Ronald Sneed</td>\n",
       "      <td>32</td>\n",
       "      <td>Male</td>\n",
       "      <td>Black</td>\n",
       "      <td>310 Yaupon St</td>\n",
       "      <td>Freeport</td>\n",
       "      <td>TX</td>\n",
       "      <td>Gunshot</td>\n",
       "      <td>Freeport Police Department</td>\n",
       "      <td>Firearm</td>\n",
       "      <td>2015-01-07</td>\n",
       "      <td>27469114</td>\n",
       "      <td>108</td>\n",
       "      <td>0.393169</td>\n",
       "    </tr>\n",
       "    <tr>\n",
       "      <th>20</th>\n",
       "      <td>22</td>\n",
       "      <td>Artago Howard</td>\n",
       "      <td>36</td>\n",
       "      <td>Male</td>\n",
       "      <td>Black</td>\n",
       "      <td>9661 Strong Hwy</td>\n",
       "      <td>Strong</td>\n",
       "      <td>AR</td>\n",
       "      <td>Gunshot</td>\n",
       "      <td>Union County Sheriff's Office</td>\n",
       "      <td>No</td>\n",
       "      <td>2015-01-08</td>\n",
       "      <td>2978204</td>\n",
       "      <td>5</td>\n",
       "      <td>0.167886</td>\n",
       "    </tr>\n",
       "    <tr>\n",
       "      <th>21</th>\n",
       "      <td>19</td>\n",
       "      <td>Omarr Jackson</td>\n",
       "      <td>37</td>\n",
       "      <td>Male</td>\n",
       "      <td>Black</td>\n",
       "      <td>Lasalle St and Josephine St</td>\n",
       "      <td>New Orleans</td>\n",
       "      <td>LA</td>\n",
       "      <td>Gunshot</td>\n",
       "      <td>New Orleans Police Department</td>\n",
       "      <td>Firearm</td>\n",
       "      <td>2015-01-08</td>\n",
       "      <td>4670724</td>\n",
       "      <td>28</td>\n",
       "      <td>0.599479</td>\n",
       "    </tr>\n",
       "    <tr>\n",
       "      <th>22</th>\n",
       "      <td>21</td>\n",
       "      <td>Loren Simpson</td>\n",
       "      <td>28</td>\n",
       "      <td>Male</td>\n",
       "      <td>White</td>\n",
       "      <td>3540 White Buffalo Rd</td>\n",
       "      <td>Huntley</td>\n",
       "      <td>MT</td>\n",
       "      <td>Gunshot</td>\n",
       "      <td>Yellowstone County Sheriff's Office</td>\n",
       "      <td>No</td>\n",
       "      <td>2015-01-08</td>\n",
       "      <td>1032949</td>\n",
       "      <td>4</td>\n",
       "      <td>0.387241</td>\n",
       "    </tr>\n",
       "    <tr>\n",
       "      <th>23</th>\n",
       "      <td>23</td>\n",
       "      <td>James Barker</td>\n",
       "      <td>42</td>\n",
       "      <td>Male</td>\n",
       "      <td>White</td>\n",
       "      <td>584 E 2nd Ave</td>\n",
       "      <td>Salt Lake City</td>\n",
       "      <td>UT</td>\n",
       "      <td>Gunshot</td>\n",
       "      <td>Salt Lake City Police Department</td>\n",
       "      <td>Other</td>\n",
       "      <td>2015-01-08</td>\n",
       "      <td>2995919</td>\n",
       "      <td>10</td>\n",
       "      <td>0.333787</td>\n",
       "    </tr>\n",
       "    <tr>\n",
       "      <th>24</th>\n",
       "      <td>24</td>\n",
       "      <td>Thomas Hamby</td>\n",
       "      <td>49</td>\n",
       "      <td>Male</td>\n",
       "      <td>White</td>\n",
       "      <td>2964 W 2125 S</td>\n",
       "      <td>Syracuse</td>\n",
       "      <td>UT</td>\n",
       "      <td>Gunshot</td>\n",
       "      <td>Syracuse Police Department, Davis County Sheri...</td>\n",
       "      <td>Firearm</td>\n",
       "      <td>2015-01-08</td>\n",
       "      <td>2995919</td>\n",
       "      <td>10</td>\n",
       "      <td>0.333787</td>\n",
       "    </tr>\n",
       "    <tr>\n",
       "      <th>25</th>\n",
       "      <td>26</td>\n",
       "      <td>Jimmy Foreman</td>\n",
       "      <td>71</td>\n",
       "      <td>Male</td>\n",
       "      <td>White</td>\n",
       "      <td>422 SE 3rd St</td>\n",
       "      <td>England</td>\n",
       "      <td>AR</td>\n",
       "      <td>Gunshot</td>\n",
       "      <td>England Police Department</td>\n",
       "      <td>Firearm</td>\n",
       "      <td>2015-01-09</td>\n",
       "      <td>2978204</td>\n",
       "      <td>5</td>\n",
       "      <td>0.167886</td>\n",
       "    </tr>\n",
       "    <tr>\n",
       "      <th>26</th>\n",
       "      <td>25</td>\n",
       "      <td>Andy Martinez</td>\n",
       "      <td>33</td>\n",
       "      <td>Male</td>\n",
       "      <td>Hispanic/Latino</td>\n",
       "      <td>4400 Tetons Dr</td>\n",
       "      <td>El Paso</td>\n",
       "      <td>TX</td>\n",
       "      <td>Gunshot</td>\n",
       "      <td>El Paso Police Department</td>\n",
       "      <td>Firearm</td>\n",
       "      <td>2015-01-09</td>\n",
       "      <td>27469114</td>\n",
       "      <td>108</td>\n",
       "      <td>0.393169</td>\n",
       "    </tr>\n",
       "    <tr>\n",
       "      <th>27</th>\n",
       "      <td>27</td>\n",
       "      <td>Brian Barbosa</td>\n",
       "      <td>23</td>\n",
       "      <td>Male</td>\n",
       "      <td>Hispanic/Latino</td>\n",
       "      <td>8900 Kauffman Ave</td>\n",
       "      <td>South Gate</td>\n",
       "      <td>CA</td>\n",
       "      <td>Gunshot</td>\n",
       "      <td>South Gate Police Department</td>\n",
       "      <td>Firearm</td>\n",
       "      <td>2015-01-11</td>\n",
       "      <td>39144818</td>\n",
       "      <td>210</td>\n",
       "      <td>0.536469</td>\n",
       "    </tr>\n",
       "    <tr>\n",
       "      <th>28</th>\n",
       "      <td>28</td>\n",
       "      <td>Salvador Figueroa</td>\n",
       "      <td>29</td>\n",
       "      <td>Male</td>\n",
       "      <td>Hispanic/Latino</td>\n",
       "      <td>Circle K, 1301 N Eastern Ave</td>\n",
       "      <td>Las Vegas</td>\n",
       "      <td>NV</td>\n",
       "      <td>Gunshot</td>\n",
       "      <td>North Las Vegas Police Department</td>\n",
       "      <td>Firearm</td>\n",
       "      <td>2015-01-11</td>\n",
       "      <td>2890845</td>\n",
       "      <td>19</td>\n",
       "      <td>0.657247</td>\n",
       "    </tr>\n",
       "    <tr>\n",
       "      <th>29</th>\n",
       "      <td>29</td>\n",
       "      <td>Tommy Smith</td>\n",
       "      <td>39</td>\n",
       "      <td>Male</td>\n",
       "      <td>White</td>\n",
       "      <td>224 Circle Dr</td>\n",
       "      <td>Arcola</td>\n",
       "      <td>IL</td>\n",
       "      <td>Gunshot</td>\n",
       "      <td>Arcola Police Department, Tuscola Police Depar...</td>\n",
       "      <td>Firearm</td>\n",
       "      <td>2015-01-12</td>\n",
       "      <td>12859995</td>\n",
       "      <td>23</td>\n",
       "      <td>0.178849</td>\n",
       "    </tr>\n",
       "  </tbody>\n",
       "</table>\n",
       "</div>"
      ],
      "text/plain": [
       "     uid                  name age  gender           raceethnicity  \\\n",
       "0      2       Matthew Ajibade  22    Male                   Black   \n",
       "1      4          Lewis Lembke  47    Male                   White   \n",
       "2      7           Tim Elliott  53    Male  Asian/Pacific Islander   \n",
       "3      5     Michael Kocher Jr  19    Male                   White   \n",
       "4      6         John Quintero  23    Male         Hispanic/Latino   \n",
       "5      8       Matthew Hoffman  32    Male                   White   \n",
       "6     91         Kenneth Brown  18    Male                   White   \n",
       "7      9          Kenneth Buck  22    Male         Hispanic/Latino   \n",
       "8     10     Michael Rodriguez  39    Male         Hispanic/Latino   \n",
       "9   1010           Frank Smart  39    Male                   Black   \n",
       "10    11        Patrick Wetter  25    Male                   White   \n",
       "11    12         Brian Pickett  26    Male                   Black   \n",
       "12    13         Autumn Steele  34  Female                   White   \n",
       "13    14         Brock Nichols  35    Male                   White   \n",
       "14    15       Leslie Sapp III  47    Male                   Black   \n",
       "15    16     Nicholas Brickman  30    Male                   White   \n",
       "16    17     Joseph Caffarello  31    Male                   White   \n",
       "17    20       Andre Murphy Sr  42    Male                   Black   \n",
       "18   422  Hashim Abdul-Rasheed  41    Male                   Black   \n",
       "19    18          Ronald Sneed  32    Male                   Black   \n",
       "20    22         Artago Howard  36    Male                   Black   \n",
       "21    19         Omarr Jackson  37    Male                   Black   \n",
       "22    21         Loren Simpson  28    Male                   White   \n",
       "23    23          James Barker  42    Male                   White   \n",
       "24    24          Thomas Hamby  49    Male                   White   \n",
       "25    26         Jimmy Foreman  71    Male                   White   \n",
       "26    25         Andy Martinez  33    Male         Hispanic/Latino   \n",
       "27    27         Brian Barbosa  23    Male         Hispanic/Latino   \n",
       "28    28     Salvador Figueroa  29    Male         Hispanic/Latino   \n",
       "29    29           Tommy Smith  39    Male                   White   \n",
       "\n",
       "                   streetaddress            city state     classification  \\\n",
       "0           1050 Carl Griffin Dr        Savannah    GA   Death in custody   \n",
       "1           4505 SW Masters Loop           Aloha    OR            Gunshot   \n",
       "2           600 E Island Lake Dr         Shelton    WA            Gunshot   \n",
       "3             2600 Kaumualii Hwy       Kaumakani    HI  Struck by vehicle   \n",
       "4           500 North Oliver Ave         Wichita    KS            Gunshot   \n",
       "5                630 Valencia St   San Francisco    CA            Gunshot   \n",
       "6                            NaN         Guthrie    OK            Gunshot   \n",
       "7      E Knox Rd and N Exeter St        Chandler    AZ            Gunshot   \n",
       "8                    818 31st St           Evans    CO            Gunshot   \n",
       "9                 950 Second Ave      Pittsburgh    PA   Death in custody   \n",
       "10                 800 Howard St        Stockton    CA            Gunshot   \n",
       "11               1618 E 123rd St     Los Angeles    CA              Taser   \n",
       "12            104 N Garfield Ave      Burlington    IA            Gunshot   \n",
       "13           2388 E Kansas Hwy 4         Assaria    KS            Gunshot   \n",
       "14                     Redlyn St      Pittsburgh    PA            Gunshot   \n",
       "15       SE 4th St and Scott Ave      Des Moines    IA            Gunshot   \n",
       "16                 6300 Scott St        Rosemont    IL            Gunshot   \n",
       "17                1223 Omaha Ave         Norfolk    NE   Death in custody   \n",
       "18    4600 International Gateway        Columbus    OH            Gunshot   \n",
       "19                 310 Yaupon St        Freeport    TX            Gunshot   \n",
       "20               9661 Strong Hwy          Strong    AR            Gunshot   \n",
       "21   Lasalle St and Josephine St     New Orleans    LA            Gunshot   \n",
       "22         3540 White Buffalo Rd         Huntley    MT            Gunshot   \n",
       "23                 584 E 2nd Ave  Salt Lake City    UT            Gunshot   \n",
       "24                 2964 W 2125 S        Syracuse    UT            Gunshot   \n",
       "25                 422 SE 3rd St         England    AR            Gunshot   \n",
       "26                4400 Tetons Dr         El Paso    TX            Gunshot   \n",
       "27             8900 Kauffman Ave      South Gate    CA            Gunshot   \n",
       "28  Circle K, 1301 N Eastern Ave       Las Vegas    NV            Gunshot   \n",
       "29                 224 Circle Dr          Arcola    IL            Gunshot   \n",
       "\n",
       "                                 lawenforcementagency               armed  \\\n",
       "0                     Chatham County Sheriff's Office                  No   \n",
       "1                  Washington County Sheriff's Office             Firearm   \n",
       "2                       Mason County Sheriff's Office             Firearm   \n",
       "3                             Kauai Police Department                  No   \n",
       "4                           Wichita Police Department                  No   \n",
       "5                     San Francisco Police Department  Non-lethal firearm   \n",
       "6                               Oklahoma State Police             Firearm   \n",
       "7                          Chandler Police Department             Firearm   \n",
       "8                             Evans Police Department               Other   \n",
       "9              Allegheny County Bureau of Corrections                  No   \n",
       "10                         Stockton Police Department               Knife   \n",
       "11            Los Angeles County Sheriff's Department                  No   \n",
       "12                       Burlington Police Department                  No   \n",
       "13                     Saline County Sheriff's Office             Firearm   \n",
       "14  US Marshals Service, Pennsylvania State Police...  Non-lethal firearm   \n",
       "15                       Des Moines Police Department             Firearm   \n",
       "16                         Rosemont Police Department             Vehicle   \n",
       "17                            Norfolk Police Division                  No   \n",
       "18                         Columbus Police Department               Knife   \n",
       "19                         Freeport Police Department             Firearm   \n",
       "20                      Union County Sheriff's Office                  No   \n",
       "21                      New Orleans Police Department             Firearm   \n",
       "22                Yellowstone County Sheriff's Office                  No   \n",
       "23                   Salt Lake City Police Department               Other   \n",
       "24  Syracuse Police Department, Davis County Sheri...             Firearm   \n",
       "25                          England Police Department             Firearm   \n",
       "26                          El Paso Police Department             Firearm   \n",
       "27                       South Gate Police Department             Firearm   \n",
       "28                  North Las Vegas Police Department             Firearm   \n",
       "29  Arcola Police Department, Tuscola Police Depar...             Firearm   \n",
       "\n",
       "         date  state_pop  state_count  st_per_capita_per_100k  \n",
       "0  2015-01-01   10214860           39                0.381797  \n",
       "1  2015-01-02    4028977           17                0.421943  \n",
       "2  2015-01-02    7170351           23                0.320765  \n",
       "3  2015-01-03    1431603            5                0.349259  \n",
       "4  2015-01-03    2911641           11                0.377794  \n",
       "5  2015-01-04   39144818          210                0.536469  \n",
       "6  2015-01-04    3911338           38                0.971535  \n",
       "7  2015-01-05    6828065           44                0.644399  \n",
       "8  2015-01-05    5456574           31                0.568122  \n",
       "9  2015-01-05   12802503           24                0.187463  \n",
       "10 2015-01-06   39144818          210                0.536469  \n",
       "11 2015-01-06   39144818          210                0.536469  \n",
       "12 2015-01-06    3123899            5                0.160056  \n",
       "13 2015-01-06    2911641           11                0.377794  \n",
       "14 2015-01-06   12802503           24                0.187463  \n",
       "15 2015-01-07    3123899            5                0.160056  \n",
       "16 2015-01-07   12859995           23                0.178849  \n",
       "17 2015-01-07    1896190            9                0.474636  \n",
       "18 2015-01-07   11613423           36                0.309986  \n",
       "19 2015-01-07   27469114          108                0.393169  \n",
       "20 2015-01-08    2978204            5                0.167886  \n",
       "21 2015-01-08    4670724           28                0.599479  \n",
       "22 2015-01-08    1032949            4                0.387241  \n",
       "23 2015-01-08    2995919           10                0.333787  \n",
       "24 2015-01-08    2995919           10                0.333787  \n",
       "25 2015-01-09    2978204            5                0.167886  \n",
       "26 2015-01-09   27469114          108                0.393169  \n",
       "27 2015-01-11   39144818          210                0.536469  \n",
       "28 2015-01-11    2890845           19                0.657247  \n",
       "29 2015-01-12   12859995           23                0.178849  "
      ]
     },
     "execution_count": 207,
     "metadata": {},
     "output_type": "execute_result"
    }
   ],
   "source": [
    "df.head(30)"
   ]
  },
  {
   "cell_type": "code",
   "execution_count": 213,
   "metadata": {
    "collapsed": false
   },
   "outputs": [
    {
     "data": {
      "text/plain": [
       "51"
      ]
     },
     "execution_count": 213,
     "metadata": {},
     "output_type": "execute_result"
    }
   ],
   "source": [
    "len(df.st_per_capita_per_100k.unique())"
   ]
  },
  {
   "cell_type": "code",
   "execution_count": 245,
   "metadata": {
    "collapsed": false
   },
   "outputs": [],
   "source": [
    "state_per_dict = dict(set(zip(df.state, df.st_per_capita_per_100k)))"
   ]
  },
  {
   "cell_type": "code",
   "execution_count": 253,
   "metadata": {
    "collapsed": false
   },
   "outputs": [],
   "source": [
    "state_np = np.asarray(sorted(state_per_dict.items(), key=lambda x:x[1], reverse=True))"
   ]
  },
  {
   "cell_type": "code",
   "execution_count": 256,
   "metadata": {
    "collapsed": false
   },
   "outputs": [
    {
     "data": {
      "text/plain": [
       "array(['WY', 'NM', 'OK', 'DC', 'AK', 'NV', 'WV', 'AZ', 'LA', 'CO', 'CA',\n",
       "       'ID', 'NE', 'KY', 'SC', 'DE', 'OR', 'MS', 'TX', 'AL', 'MT', 'GA',\n",
       "       'KS', 'MO', 'FL', 'HI', 'UT', 'WA', 'TN', 'IN', 'OH', 'MD', 'VA',\n",
       "       'NC', 'NJ', 'MN', 'SD', 'NH', 'WI', 'MI', 'PA', 'IL', 'AR', 'IA',\n",
       "       'VT', 'ME', 'MA', 'ND', 'NY', 'CT', 'RI'], \n",
       "      dtype='|S15')"
      ]
     },
     "execution_count": 256,
     "metadata": {},
     "output_type": "execute_result"
    }
   ],
   "source": [
    "state_np[:,0]"
   ]
  },
  {
   "cell_type": "code",
   "execution_count": 320,
   "metadata": {
    "collapsed": false
   },
   "outputs": [
    {
     "ename": "TypeError",
     "evalue": "Mismatch between array dtype ('|S15') and format specifier ('%.18e %.18e')",
     "output_type": "error",
     "traceback": [
      "\u001b[0;31m---------------------------------------------------------------------------\u001b[0m",
      "\u001b[0;31mTypeError\u001b[0m                                 Traceback (most recent call last)",
      "\u001b[0;32m<ipython-input-320-608b0d35d6ea>\u001b[0m in \u001b[0;36m<module>\u001b[0;34m()\u001b[0m\n\u001b[0;32m----> 1\u001b[0;31m \u001b[0mnp\u001b[0m\u001b[0;34m.\u001b[0m\u001b[0msavetxt\u001b[0m\u001b[0;34m(\u001b[0m\u001b[0;34m\"state_per_capita_rate.csv\"\u001b[0m\u001b[0;34m,\u001b[0m \u001b[0mstate_np\u001b[0m\u001b[0;34m)\u001b[0m\u001b[0;34m\u001b[0m\u001b[0m\n\u001b[0m",
      "\u001b[0;32m/Users/georgemcintire/anaconda/lib/python2.7/site-packages/numpy/lib/npyio.pyc\u001b[0m in \u001b[0;36msavetxt\u001b[0;34m(fname, X, fmt, delimiter, newline, header, footer, comments)\u001b[0m\n\u001b[1;32m   1158\u001b[0m                     raise TypeError(\"Mismatch between array dtype ('%s') and \"\n\u001b[1;32m   1159\u001b[0m                                     \u001b[0;34m\"format specifier ('%s')\"\u001b[0m\u001b[0;34m\u001b[0m\u001b[0m\n\u001b[0;32m-> 1160\u001b[0;31m                                     % (str(X.dtype), format))\n\u001b[0m\u001b[1;32m   1161\u001b[0m         \u001b[0;32mif\u001b[0m \u001b[0mlen\u001b[0m\u001b[0;34m(\u001b[0m\u001b[0mfooter\u001b[0m\u001b[0;34m)\u001b[0m \u001b[0;34m>\u001b[0m \u001b[0;36m0\u001b[0m\u001b[0;34m:\u001b[0m\u001b[0;34m\u001b[0m\u001b[0m\n\u001b[1;32m   1162\u001b[0m             \u001b[0mfooter\u001b[0m \u001b[0;34m=\u001b[0m \u001b[0mfooter\u001b[0m\u001b[0;34m.\u001b[0m\u001b[0mreplace\u001b[0m\u001b[0;34m(\u001b[0m\u001b[0;34m'\\n'\u001b[0m\u001b[0;34m,\u001b[0m \u001b[0;34m'\\n'\u001b[0m \u001b[0;34m+\u001b[0m \u001b[0mcomments\u001b[0m\u001b[0;34m)\u001b[0m\u001b[0;34m\u001b[0m\u001b[0m\n",
      "\u001b[0;31mTypeError\u001b[0m: Mismatch between array dtype ('|S15') and format specifier ('%.18e %.18e')"
     ]
    }
   ],
   "source": [
    "np.savetxt(\"state_per_capita_rate.csv\", state_np)"
   ]
  },
  {
   "cell_type": "code",
   "execution_count": 322,
   "metadata": {
    "collapsed": false
   },
   "outputs": [],
   "source": [
    "state_np.tofile('state_np.csv',sep=',')"
   ]
  },
  {
   "cell_type": "code",
   "execution_count": null,
   "metadata": {
    "collapsed": true
   },
   "outputs": [],
   "source": []
  },
  {
   "cell_type": "code",
   "execution_count": 296,
   "metadata": {
    "collapsed": true
   },
   "outputs": [],
   "source": [
    "?plt.bar"
   ]
  },
  {
   "cell_type": "code",
   "execution_count": 307,
   "metadata": {
    "collapsed": false
   },
   "outputs": [
    {
     "data": {
      "image/png": "[encoded data removed]",
      "text/plain": [
       "<matplotlib.figure.Figure at 0x1185edad0>"
      ]
     },
     "metadata": {},
     "output_type": "display_data"
    }
   ],
   "source": [
    "plt.figure(figsize=(36, 15))\n",
    "plt.bar(range(51),state_np[:,1], width =bar_width, tick_label=state_np[:,0])\n",
    "plt.xticks(range(51), state_np[:,0], size= 20)\n",
    "\n",
    "plt.xlabel(\"State\", size=30)\n",
    "plt.ylabel(\"Death per 100k\", size=30)\n",
    "plt.title(\"State per capita death rate from police violence per 100k population. Ordered from greatest to least\", size=35)\n",
    "plt.margins(0.05)\n",
    "plt.show()\n",
    "\n"
   ]
  },
  {
   "cell_type": "code",
   "execution_count": 231,
   "metadata": {
    "collapsed": false
   },
   "outputs": [],
   "source": [
    "per_cap_dict = dict(zip(df.state.unique(),df.st_per_capita_per_100k))"
   ]
  },
  {
   "cell_type": "code",
   "execution_count": 242,
   "metadata": {
    "collapsed": false
   },
   "outputs": [
    {
     "data": {
      "text/plain": [
       "[('NH', 1.0071415930773884),\n",
       " ('RI', 0.97153454904689895),\n",
       " ('OK', 0.97153454904689895),\n",
       " ('MA', 0.65724727545060357),\n",
       " ('AL', 0.64439925513304275),\n",
       " ('AZ', 0.64439925513304275),\n",
       " ('DE', 0.59947879600678611),\n",
       " ('MN', 0.59947879600678611),\n",
       " ('WY', 0.56812204874340566),\n",
       " ('CO', 0.56812204874340566),\n",
       " ('WI', 0.53646947598530148),\n",
       " ('IL', 0.53646947598530148),\n",
       " ('IA', 0.53646947598530148),\n",
       " ('CA', 0.53646947598530148),\n",
       " ('CT', 0.53646947598530148),\n",
       " ('KY', 0.53646947598530148),\n",
       " ('MT', 0.47463598057156725),\n",
       " ('ND', 0.42936960406698887),\n",
       " ('OR', 0.42194333698107483),\n",
       " ('FL', 0.39316885138705238),\n",
       " ('TN', 0.39316885138705238),\n",
       " ('NV', 0.39316885138705238),\n",
       " ('VT', 0.39316885138705238),\n",
       " ('IN', 0.39316885138705238),\n",
       " ('MO', 0.38724080278890832),\n",
       " ('GA', 0.38179671576507168),\n",
       " ('OH', 0.37779382829133124),\n",
       " ('KS', 0.37779382829133124),\n",
       " ('MD', 0.36162370357902268),\n",
       " ('HI', 0.34925883782026163),\n",
       " ('NJ', 0.33378739545361541),\n",
       " ('NC', 0.33378739545361541),\n",
       " ('NY', 0.33378739545361541),\n",
       " ('WA', 0.32076532934022334),\n",
       " ('SC', 0.31723587847146689),\n",
       " ('UT', 0.30998612553766447),\n",
       " ('ME', 0.27436501497734755),\n",
       " ('WV', 0.25675336706923735),\n",
       " ('AK', 0.25675336706923735),\n",
       " ('DC', 0.23681168406989661),\n",
       " ('ID', 0.23681168406989661),\n",
       " ('SD', 0.23681168406989661),\n",
       " ('TX', 0.18746334212926957),\n",
       " ('PA', 0.18746334212926957),\n",
       " ('LA', 0.17884921417154517),\n",
       " ('MS', 0.17884921417154517),\n",
       " ('NM', 0.16788641745159164),\n",
       " ('VA', 0.16788641745159164),\n",
       " ('NE', 0.16005639106770098),\n",
       " ('AR', 0.16005639106770098),\n",
       " ('MI', 0.1262894723428834)]"
      ]
     },
     "execution_count": 242,
     "metadata": {},
     "output_type": "execute_result"
    }
   ],
   "source": [
    "sorted(per_cap_dict.items(), key=lambda x:x[1], reverse=True)"
   ]
  },
  {
   "cell_type": "code",
   "execution_count": 308,
   "metadata": {
    "collapsed": false
   },
   "outputs": [
    {
     "data": {
      "text/plain": [
       "(1140, 15)"
      ]
     },
     "execution_count": 308,
     "metadata": {},
     "output_type": "execute_result"
    }
   ],
   "source": [
    "df.shape"
   ]
  },
  {
   "cell_type": "code",
   "execution_count": 311,
   "metadata": {
    "collapsed": false
   },
   "outputs": [],
   "source": [
    "df.rename(columns={\"raceethnicity\":\"race\"}, inplace=True)"
   ]
  },
  {
   "cell_type": "code",
   "execution_count": 313,
   "metadata": {
    "collapsed": false
   },
   "outputs": [],
   "source": [
    "race_count = df[\"race\"].value_counts()"
   ]
  },
  {
   "cell_type": "code",
   "execution_count": 314,
   "metadata": {
    "collapsed": false
   },
   "outputs": [
    {
     "data": {
      "text/plain": [
       "White                     578\n",
       "Black                     303\n",
       "Hispanic/Latino           194\n",
       "Asian/Pacific Islander     24\n",
       "Unknown                    23\n",
       "Native American            13\n",
       "Arab-American               4\n",
       "Other                       1\n",
       "Name: race, dtype: int64"
      ]
     },
     "execution_count": 314,
     "metadata": {},
     "output_type": "execute_result"
    }
   ],
   "source": [
    "race_count"
   ]
  },
  {
   "cell_type": "code",
   "execution_count": 317,
   "metadata": {
    "collapsed": false
   },
   "outputs": [
    {
     "data": {
      "image/png": "[encoded data removed]",
      "text/plain": [
       "<matplotlib.figure.Figure at 0x11851add0>"
      ]
     },
     "metadata": {},
     "output_type": "display_data"
    }
   ],
   "source": [
    "plt.bar(range(len(race_count)), race_count, align=\"center\")\n",
    "plt.xticks(range(len(race_count)), race_count.index, rotation=\"vertical\")\n",
    "plt.show()"
   ]
  },
  {
   "cell_type": "code",
   "execution_count": 323,
   "metadata": {
    "collapsed": true
   },
   "outputs": [],
   "source": [
    "import pickle\n",
    "\n",
    "with open('state_np.pkl', 'w') as picklefile:\n",
    "    pickle.dump(state_np, picklefile)"
   ]
  },
  {
   "cell_type": "code",
   "execution_count": 324,
   "metadata": {
    "collapsed": false
   },
   "outputs": [
    {
     "data": {
      "text/plain": [
       "Index([u'uid', u'name', u'age', u'gender', u'race', u'streetaddress', u'city',\n",
       "       u'state', u'classification', u'lawenforcementagency', u'armed', u'date',\n",
       "       u'state_pop', u'state_count', u'st_per_capita_per_100k'],\n",
       "      dtype='object')"
      ]
     },
     "execution_count": 324,
     "metadata": {},
     "output_type": "execute_result"
    }
   ],
   "source": [
    "df.columns"
   ]
  },
  {
   "cell_type": "code",
   "execution_count": null,
   "metadata": {
    "collapsed": true
   },
   "outputs": [],
   "source": []
  }
 ],
 "metadata": {
  "kernelspec": {
   "display_name": "Python 2",
   "language": "python",
   "name": "python2"
  },
  "language_info": {
   "codemirror_mode": {
    "name": "ipython",
    "version": 2
   },
   "file_extension": ".py",
   "mimetype": "text/x-python",
   "name": "python",
   "nbconvert_exporter": "python",
   "pygments_lexer": "ipython2",
   "version": "2.7.11"
  }
 },
 "nbformat": 4,
 "nbformat_minor": 0
}
